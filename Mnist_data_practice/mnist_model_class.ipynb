{
 "cells": [
  {
   "cell_type": "code",
   "execution_count": 1,
   "metadata": {},
   "outputs": [],
   "source": [
    "class Model:\n",
    "    def __init__(self,sess,name):\n",
    "        self.sess=sess\n",
    "        self.name=name\n",
    "        self._build_net()\n",
    "    def _build_net(self):#변수 설정 및 network 구성\n",
    "        with tf.variable_scope(self.name):\n",
    "            self.learning_rate=0.001\n",
    "            self.keep_prob=tf.placeholder(tf.float32)\n",
    "            self.X=tf.placeholder(tf.float32,shape=[None,784])\n",
    "            self.X_img = tf.reshape(self.X, [-1, 28, 28, 1])   # img 28x28x1 (black/white)\n",
    "            self.Y = tf.placeholder(tf.float32, [None, 10])\n",
    "            self.W1 = tf.Variable(tf.random_normal([3, 3, 1, 32], stddev=0.01))\n",
    "            self.W2 = tf.Variable(tf.random_normal([3, 3, 32, 64], stddev=0.01))\n",
    "            self.W3 = tf.Variable(tf.random_normal([3, 3, 64, 128], stddev=0.01))\n",
    "            self.FW1= tf.get_variable(\"FW1\", shape=[128 * 4 * 4, 625],\n",
    "                     initializer=tf.contrib.layers.xavier_initializer())\n",
    "            self.FW2= tf.get_variable(\"FW2\", shape=[625, 10],\n",
    "                     initializer=tf.contrib.layers.xavier_initializer())\n",
    "            self.Fb1 = tf.Variable(tf.random_normal([625]))\n",
    "            self.Fb2 = tf.Variable(tf.random_normal([10]))\n",
    "        #convolution layer\n",
    "        self.L1 = tf.nn.conv2d(self.X_img, self.W1, strides=[1, 1, 1, 1], padding='SAME')\n",
    "        self.L1 = tf.nn.relu(self.L1)\n",
    "        self.L1 = tf.nn.max_pool(self.L1, ksize=[1, 2, 2, 1],\n",
    "                    strides=[1, 2, 2, 1], padding='SAME')\n",
    "        self.L1 = tf.nn.dropout(self.L1,keep_prob=self.keep_prob)\n",
    "            \n",
    "        self.L2 = tf.nn.conv2d(self.L1, self.W2, strides=[1, 1, 1, 1], padding='SAME')\n",
    "        self.L2 = tf.nn.relu(self.L2)\n",
    "        self.L2 = tf.nn.max_pool(self.L2, ksize=[1, 2, 2, 1],\n",
    "                strides=[1, 2, 2, 1], padding='SAME')\n",
    "        self.L2 = tf.nn.dropout(self.L2,keep_prob=self.keep_prob)\n",
    "            \n",
    "        self.L3 = tf.nn.conv2d(self.L2, self.W3, strides=[1, 1, 1, 1], padding='SAME')\n",
    "        self.L3 = tf.nn.relu(self.L3)\n",
    "        self.L3 = tf.nn.max_pool(self.L3, ksize=[1, 2, 2, 1],\n",
    "                    strides=[1, 2, 2, 1], padding='SAME')\n",
    "        self.L3 = tf.nn.dropout(self.L3,keep_prob=self.keep_prob)\n",
    "        self.L3_flat = tf.reshape(self.L3, [-1, 128 * 4 * 4])\n",
    "            \n",
    "            \n",
    "        #fully connected layer\n",
    "        self.FL1 = tf.nn.relu(tf.matmul(self.L3_flat, self.FW1) + self.Fb1)\n",
    "        self.FL1 = tf.nn.dropout(self.FL1, keep_prob=self.keep_prob)\n",
    "            \n",
    "        self.FL2 = tf.matmul(self.FL1, self.FW2)+self.Fb2\n",
    "            \n",
    "        #cost & optimizer\n",
    "        self.cost= tf.reduce_mean(tf.nn.softmax_cross_entropy_with_logits_v2(logits=self.FL2, labels=self.Y))\n",
    "        self.optimizer = tf.train.AdamOptimizer(learning_rate=self.learning_rate).minimize(self.cost)\n",
    "            \n",
    "        #accuracy & prediction\n",
    "        self.correct_prediction = tf.equal(tf.argmax(self.FL2, 1), tf.argmax(self.Y, 1))\n",
    "        self.accuracy = tf.reduce_mean(tf.cast(self.correct_prediction, tf.float32))\n",
    "    def predicted(self,x_test,keep_prob=1.0):\n",
    "        return self.sess.run(self.FL2,feed_dict={self.X:x_test,self.keep_prob:keep_prob})\n",
    "    def get_accuracy(self,x_test,y_test,keep_prob=1.0):\n",
    "        return self.sess.run(self.accuracy,feed_dict={self.X:x_test,self.Y:y_test,self.keep_prob:keep_prob})\n",
    "    def train(self,x_data,y_data,keep_prob=0.7):\n",
    "        return self.sess.run([self.cost,self.optimizer],feed_dict={self.X:x_data,self.Y:y_data,self.keep_prob:keep_prob})\n",
    "            "
   ]
  },
  {
   "cell_type": "code",
   "execution_count": 2,
   "metadata": {
    "scrolled": true
   },
   "outputs": [
    {
     "name": "stderr",
     "output_type": "stream",
     "text": [
      "C:\\Users\\Robotmedia9\\Anaconda3\\lib\\site-packages\\h5py\\__init__.py:36: FutureWarning: Conversion of the second argument of issubdtype from `float` to `np.floating` is deprecated. In future, it will be treated as `np.float64 == np.dtype(float).type`.\n",
      "  from ._conv import register_converters as _register_converters\n"
     ]
    },
    {
     "name": "stdout",
     "output_type": "stream",
     "text": [
      "Extracting MNIST_data/train-images-idx3-ubyte.gz\n",
      "Extracting MNIST_data/train-labels-idx1-ubyte.gz\n",
      "Extracting MNIST_data/t10k-images-idx3-ubyte.gz\n",
      "Extracting MNIST_data/t10k-labels-idx1-ubyte.gz\n",
      "Learning started. It takes sometime.\n",
      "Epoch: 0001 cost = 0.359114391\n",
      "Epoch: 0002 cost = 0.098635341\n",
      "Epoch: 0003 cost = 0.073617802\n",
      "Epoch: 0004 cost = 0.059579738\n",
      "Epoch: 0005 cost = 0.050943636\n",
      "Epoch: 0006 cost = 0.045958366\n",
      "Epoch: 0007 cost = 0.042547446\n",
      "Epoch: 0008 cost = 0.038630164\n",
      "Epoch: 0009 cost = 0.036922806\n",
      "Epoch: 0010 cost = 0.033910994\n",
      "Epoch: 0011 cost = 0.031285284\n",
      "Epoch: 0012 cost = 0.031118160\n",
      "Epoch: 0013 cost = 0.029283639\n",
      "Epoch: 0014 cost = 0.026602107\n",
      "Epoch: 0015 cost = 0.026624620\n",
      "Learning Finished!\n",
      "learning time :  76.50883293151855\n"
     ]
    }
   ],
   "source": [
    "import tensorflow as tf\n",
    "import random\n",
    "# import matplotlib.pyplot as plt\n",
    "import time\n",
    "from tensorflow.examples.tutorials.mnist import input_data\n",
    "\n",
    "tf.set_random_seed(777)  # reproducibility\n",
    "#load mnist data\n",
    "mnist = input_data.read_data_sets(\"MNIST_data/\", one_hot=True)\n",
    "sess=tf.Session()\n",
    "m1=Model(sess,\"m1\")\n",
    "\n",
    "training_epochs = 15\n",
    "batch_size = 100\n",
    "\n",
    "sess.run(tf.global_variables_initializer())\n",
    "start_time=time.time()\n",
    "# train my model\n",
    "print('Learning started. It takes sometime.')\n",
    "for epoch in range(training_epochs):\n",
    "    avg_cost = 0\n",
    "    total_batch = int(mnist.train.num_examples / batch_size)\n",
    "\n",
    "    for i in range(total_batch):\n",
    "        batch_xs, batch_ys = mnist.train.next_batch(batch_size)\n",
    "       \n",
    "        c , _ = m1.train(batch_xs,batch_ys,0.7)\n",
    "        avg_cost += c / total_batch\n",
    "\n",
    "    print('Epoch:', '%04d' % (epoch + 1), 'cost =', '{:.9f}'.format(avg_cost))\n",
    "\n",
    "print('Learning Finished!')\n",
    "print('learning time : ',time.time()-start_time)\n",
    "\n",
    "\n"
   ]
  },
  {
   "cell_type": "code",
   "execution_count": 3,
   "metadata": {},
   "outputs": [
    {
     "name": "stdout",
     "output_type": "stream",
     "text": [
      "accuracy :  0.9938\n",
      "Label:  [8]\n",
      "Prediction:  [8]\n",
      "Label:  [0]\n",
      "Prediction:  [0]\n",
      "Label:  [2]\n",
      "Prediction:  [2]\n",
      "Label:  [0]\n",
      "Prediction:  [0]\n",
      "Label:  [2]\n",
      "Prediction:  [2]\n",
      "Label:  [0]\n",
      "Prediction:  [0]\n",
      "Label:  [1]\n",
      "Prediction:  [1]\n",
      "Label:  [7]\n",
      "Prediction:  [7]\n",
      "Label:  [6]\n",
      "Prediction:  [6]\n",
      "Label:  [6]\n",
      "Prediction:  [5]\n"
     ]
    }
   ],
   "source": [
    "print('accuracy : ',m1.get_accuracy(mnist.test.images,mnist.test.labels,1))\n",
    "for i in range(10):\n",
    "    # Get one and predict\n",
    "    r = random.randint(0, mnist.test.num_examples - 1)\n",
    "    print(\"Label: \", sess.run(tf.argmax(mnist.test.labels[r:r + 1], 1)))\n",
    "    print(\"Prediction: \",sess.run(tf.argmax(m1.predicted(mnist.test.images[r:r + 1],1),1)))\n"
   ]
  },
  {
   "cell_type": "code",
   "execution_count": null,
   "metadata": {},
   "outputs": [],
   "source": []
  }
 ],
 "metadata": {
  "kernelspec": {
   "display_name": "Python 3",
   "language": "python",
   "name": "python3"
  },
  "language_info": {
   "codemirror_mode": {
    "name": "ipython",
    "version": 3
   },
   "file_extension": ".py",
   "mimetype": "text/x-python",
   "name": "python",
   "nbconvert_exporter": "python",
   "pygments_lexer": "ipython3",
   "version": "3.6.4"
  }
 },
 "nbformat": 4,
 "nbformat_minor": 2
}
