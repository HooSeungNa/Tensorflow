{
 "cells": [
  {
   "cell_type": "code",
   "execution_count": 1,
   "metadata": {},
   "outputs": [
    {
     "name": "stderr",
     "output_type": "stream",
     "text": [
      "C:\\Users\\Robotmedia9\\Anaconda3\\lib\\site-packages\\h5py\\__init__.py:36: FutureWarning: Conversion of the second argument of issubdtype from `float` to `np.floating` is deprecated. In future, it will be treated as `np.float64 == np.dtype(float).type`.\n",
      "  from ._conv import register_converters as _register_converters\n"
     ]
    },
    {
     "name": "stdout",
     "output_type": "stream",
     "text": [
      "Vocabulary Size: 55823\n",
      "Train/Dev split: 120000/80000\n"
     ]
    }
   ],
   "source": [
    "import tensorflow as tf\n",
    "import numpy as np\n",
    "import os\n",
    "import time\n",
    "import datetime\n",
    "import data_helpers\n",
    "from tensorflow.contrib import learn\n",
    "import copy\n",
    "import sys\n",
    "from Next_batch import next_batch # next random batch\n",
    "from Batch_norm import batch_norm\n",
    "# Data loading params\n",
    "dev_sample_percentage=0.4\n",
    "w2v = np.load('i2w.npz')#gensim 55823\n",
    "word2vec_vocab=list(w2v['word'])\n",
    "word2index=dict([(w,i) for i,w in enumerate(word2vec_vocab)])\n",
    "\n",
    "def read_data_pos_data(filename):\n",
    "    with open(filename, 'r',encoding =\"utf-8\") as f:\n",
    "        data = [line.split('\\t') for line in f.read().splitlines()]\n",
    "    return data\n",
    "def y_trans(data):#1,0 좋다\n",
    "    for i in range(len(data)):\n",
    "        if data[i][-1]=='0':\n",
    "            data[i][-1]=[0,1]\n",
    "        else :\n",
    "            data[i][-1]=[1,0]\n",
    "    return data\n",
    "train_data=read_data_pos_data('./ratings.txt')\n",
    "train_data=y_trans(train_data)\n",
    "\n",
    "def x_y_slice(data):\n",
    "    temp=[]\n",
    "    for i in range(len(data)):\n",
    "        temp.append(data[i][:-1])\n",
    "    return temp\n",
    "def ylist2y(data):\n",
    "    temp=[]\n",
    "    for i in range(len(data)):\n",
    "        temp.append(data[i][-1])\n",
    "    return temp\n",
    "train_data_y = ylist2y(train_data)\n",
    "train_data_x=x_y_slice(train_data)\n",
    "train_data_x[0][0]='어리다Verb'\n",
    "error=[]\n",
    "def one_hot_encoding(Matrix,data):\n",
    "    for i,sentence in enumerate(data):\n",
    "        for j,word in enumerate(sentence):\n",
    "            try:\n",
    "                Matrix[i][j]=word2index[word]\n",
    "            except KeyError:\n",
    "                error.append([sentence])\n",
    "                pass\n",
    "    return Matrix\n",
    "\n",
    "def Matrix_make(maxlength,num_data):\n",
    "    a=np.array([0]*maxlength)\n",
    "    b=[]\n",
    "    for i in range(num_data):\n",
    "        b.append(a)\n",
    "    return np.array(b)\n",
    "\n",
    "max_document_length = max([len(x) for x in train_data_x])\n",
    "\n",
    "m=Matrix_make(max_document_length,len(train_data_x))\n",
    "\n",
    "train_data_x_one_hot=one_hot_encoding(m,train_data_x)\n",
    "x=np.array(train_data_x_one_hot,dtype='int32')\n",
    "y=np.array(train_data_y)\n",
    "np.random.seed(10)\n",
    "shuffle_indices = np.random.permutation(np.arange(len(y)))\n",
    "x_shuffled = x[shuffle_indices]\n",
    "y_shuffled = y[shuffle_indices]\n",
    "dev_sample_index = -1 * int(dev_sample_percentage * float(len(y)))\n",
    "x_train, x_dev = x_shuffled[:dev_sample_index], x_shuffled[dev_sample_index:]\n",
    "y_train, y_dev = y_shuffled[:dev_sample_index], y_shuffled[dev_sample_index:]\n",
    "print(\"Vocabulary Size: {:d}\".format(len(word2vec_vocab)))\n",
    "print(\"Train/Dev split: {:d}/{:d}\".format(len(y_train), len(y_dev)))"
   ]
  },
  {
   "cell_type": "code",
   "execution_count": 2,
   "metadata": {},
   "outputs": [],
   "source": [
    "w2v = np.load('i2w.npz')#gensim 55823\n",
    "word2vec_vocab=list(w2v['word'])\n",
    "word2index=dict([(w,i) for i,w in enumerate(word2vec_vocab)])\n",
    "\n",
    "def read_data_pos_data(filename):\n",
    "    with open(filename, 'r',encoding =\"utf-8\") as f:\n",
    "        data = [line.split('\\t') for line in f.read().splitlines()]\n",
    "    return data\n",
    "def y_trans(data):#1,0 좋다\n",
    "    for i in range(len(data)):\n",
    "        if data[i][-1]=='0':\n",
    "            data[i][-1]=[0,1]\n",
    "        else :\n",
    "            data[i][-1]=[1,0]\n",
    "    return data\n",
    "train_data=read_data_pos_data('./ratings.txt')\n",
    "train_data=y_trans(train_data)\n",
    "\n",
    "def x_y_slice(data):\n",
    "    temp=[]\n",
    "    for i in range(len(data)):\n",
    "        temp.append(data[i][:-1])\n",
    "    return temp\n",
    "def ylist2y(data):\n",
    "    temp=[]\n",
    "    for i in range(len(data)):\n",
    "        temp.append(data[i][-1])\n",
    "    return temp\n",
    "train_data_y = ylist2y(train_data)\n",
    "train_data_x=x_y_slice(train_data)\n",
    "train_data_x[0][0]='어리다Verb'"
   ]
  },
  {
   "cell_type": "code",
   "execution_count": 3,
   "metadata": {},
   "outputs": [
    {
     "name": "stdout",
     "output_type": "stream",
     "text": [
      "Vocabulary Size: 55823\n",
      "Train/Dev split: 120000/80000\n"
     ]
    }
   ],
   "source": [
    "error=[]\n",
    "def one_hot_encoding(Matrix,data):\n",
    "    for i,sentence in enumerate(data):\n",
    "        for j,word in enumerate(sentence):\n",
    "            try:\n",
    "                Matrix[i][j]=word2index[word]\n",
    "            except KeyError:\n",
    "                error.append([sentence])\n",
    "                pass\n",
    "    return Matrix\n",
    "\n",
    "def Matrix_make(maxlength,num_data):\n",
    "    a=np.array([0]*maxlength)\n",
    "    b=[]\n",
    "    for i in range(num_data):\n",
    "        b.append(a)\n",
    "    return np.array(b)\n",
    "\n",
    "max_document_length = max([len(x) for x in train_data_x])\n",
    "\n",
    "m=Matrix_make(max_document_length,len(train_data_x))\n",
    "\n",
    "train_data_x_one_hot=one_hot_encoding(m,train_data_x)\n",
    "\n",
    "x=np.array(train_data_x_one_hot,dtype='int32')\n",
    "y=np.array(train_data_y)\n",
    "np.random.seed(10)\n",
    "shuffle_indices = np.random.permutation(np.arange(len(y)))\n",
    "x_shuffled = x[shuffle_indices]\n",
    "y_shuffled = y[shuffle_indices]\n",
    "dev_sample_index = -1 * int(dev_sample_percentage * float(len(y)))\n",
    "x_train, x_dev = x_shuffled[:dev_sample_index], x_shuffled[dev_sample_index:]\n",
    "y_train, y_dev = y_shuffled[:dev_sample_index], y_shuffled[dev_sample_index:]\n",
    "print(\"Vocabulary Size: {:d}\".format(len(word2vec_vocab)))\n",
    "print(\"Train/Dev split: {:d}/{:d}\".format(len(y_train), len(y_dev)))"
   ]
  },
  {
   "cell_type": "code",
   "execution_count": 4,
   "metadata": {},
   "outputs": [
    {
     "name": "stdout",
     "output_type": "stream",
     "text": [
      "x_shape :  (120000, 95) , (80000, 95)\n",
      "y_shape :  (120000, 2) , (80000, 2)\n"
     ]
    }
   ],
   "source": [
    "#x_train, y_train shape\n",
    "print(\"x_shape : \",np.shape(x_train),\",\",np.shape(x_dev))\n",
    "print(\"y_shape : \",np.shape(y_train),\",\",np.shape(y_dev))"
   ]
  },
  {
   "cell_type": "code",
   "execution_count": 5,
   "metadata": {},
   "outputs": [],
   "source": [
    "#hyper parameter\n",
    "num_classes = y_train.shape[1]\n",
    "batch_size = 352\n",
    "sequence_length = x_train.shape[1]\n",
    "vocab_size = len(word2vec_vocab)\n",
    "embed_size = 200\n",
    "hidden_size = embed_size\n",
    "is_training=True\n",
    "learning_rate=0.01\n",
    "initializer=tf.random_normal_initializer(stddev=0.1)\n",
    "activation=tf.nn.tanh #TODO tf.nn.tanh\n",
    "multi_label_flag=True\n",
    "        "
   ]
  },
  {
   "cell_type": "code",
   "execution_count": 6,
   "metadata": {},
   "outputs": [],
   "source": [
    "#before embedding x data and y data\n",
    "input_x = tf.placeholder(tf.int32, [None, 95], name=\"input_x\")\n",
    "input_y = tf.placeholder(tf.float32, [None, 2], name=\"input_y\")\n",
    "dropout_keep_prob = tf.placeholder(tf.float32, name=\"dropout_keep_prob\")\n",
    "\n",
    "#embedding\n",
    "word2vec_weight = np.load('word2vec_weight_200_skip_hs.npz')['E']#gensim 55823\n",
    "word2vec_weight=word2vec_weight.astype('float32')\n",
    "with tf.device('/cpu:0'), tf.name_scope(\"embedding\"):\n",
    "            W_embedding = tf.Variable(\n",
    "                word2vec_weight,\n",
    "                name=\"W\")\n",
    "            embedded_words = tf.nn.embedding_lookup(W_embedding, input_x)# training parameter 존재"
   ]
  },
  {
   "cell_type": "code",
   "execution_count": 7,
   "metadata": {},
   "outputs": [
    {
     "name": "stdout",
     "output_type": "stream",
     "text": [
      "Tensor(\"embedding/embedding_lookup:0\", shape=(?, 95, 200), dtype=float32, device=/device:CPU:0)\n"
     ]
    }
   ],
   "source": [
    "#embedded x_data shape=[none,95,200]\n",
    "print(embedded_words)"
   ]
  },
  {
   "cell_type": "code",
   "execution_count": 8,
   "metadata": {
    "scrolled": false
   },
   "outputs": [],
   "source": [
    "embedded_words_split=tf.split(embedded_words,sequence_length,axis=1) # shape = [None,1,embed_size]\n",
    "embedded_words_squeezed2=copy.copy(embedded_words_split)\n",
    "embedded_words_squeezed2.reverse()# backward"
   ]
  },
  {
   "cell_type": "code",
   "execution_count": 9,
   "metadata": {},
   "outputs": [],
   "source": [
    "#left data, right data -->shape[?,95,200]\n",
    "embedded_words_left=tf.concat(embedded_words_split,1)\n",
    "embedded_words_right=tf.concat(embedded_words_squeezed2,1)"
   ]
  },
  {
   "cell_type": "code",
   "execution_count": 10,
   "metadata": {
    "scrolled": false
   },
   "outputs": [],
   "source": [
    "#num_units = (LSTM의 아웃풋 갯수) \n",
    "cell_left = tf.contrib.rnn.BasicLSTMCell(num_units=embed_size, state_is_tuple=True,reuse=tf.AUTO_REUSE)\n",
    "cell_right = tf.contrib.rnn.BasicLSTMCell(num_units=embed_size, state_is_tuple=True,reuse=tf.AUTO_REUSE)\n",
    "\n",
    "\n",
    "initial_state_left = cell_left.zero_state(batch_size, tf.float32)\n",
    "initial_state_right = cell_right.zero_state(batch_size, tf.float32)\n",
    "\n",
    "#right and left shape=[ batch_size, sequence_length, embedding_size]\n",
    "left_outputs, _states = tf.nn.dynamic_rnn(cell_left, embedded_words_left, initial_state=initial_state_left, dtype=tf.float32)\n",
    "right_outputs, _states = tf.nn.dynamic_rnn(cell_right, embedded_words_right, initial_state=initial_state_right, dtype=tf.float32)\n"
   ]
  },
  {
   "cell_type": "code",
   "execution_count": 11,
   "metadata": {
    "scrolled": true
   },
   "outputs": [],
   "source": [
    "x_total=tf.concat([left_outputs,embedded_words,right_outputs],2) # shape=(32, 95, 600)"
   ]
  },
  {
   "cell_type": "code",
   "execution_count": 12,
   "metadata": {},
   "outputs": [
    {
     "data": {
      "text/plain": [
       "<tf.Tensor 'ExpandDims:0' shape=(352, 95, 600, 1) dtype=float32>"
      ]
     },
     "execution_count": 12,
     "metadata": {},
     "output_type": "execute_result"
    }
   ],
   "source": [
    "x_conv_input = tf.expand_dims(x_total, -1)# 차원 확장\n",
    "x_conv_input"
   ]
  },
  {
   "cell_type": "code",
   "execution_count": 13,
   "metadata": {},
   "outputs": [
    {
     "data": {
      "text/plain": [
       "<tf.Tensor 'relu:0' shape=(352, 93, 1, 100) dtype=float32>"
      ]
     },
     "execution_count": 13,
     "metadata": {},
     "output_type": "execute_result"
    }
   ],
   "source": [
    "phase_train = tf.placeholder(tf.bool, name='phase_train')\n",
    "num_filters=100\n",
    "pooled_outputs = []\n",
    "\n",
    "filter_shape = [3, embed_size*3, 1, 100] # filter size\n",
    "conv_W = tf.Variable(tf.truncated_normal(filter_shape, stddev=0.1), name=\"conv_W\")\n",
    "conv_b = tf.Variable(tf.constant(0.1, shape=[num_filters]), name=\"conv_b\")\n",
    "y_conv = tf.nn.conv2d(x_conv_input,conv_W,strides=[1, 1, 1, 1],padding=\"VALID\",name=\"y_conv\")\n",
    "h = tf.nn.relu(batch_norm(y_conv,num_filters,phase_train), name=\"relu\")\n",
    "h"
   ]
  },
  {
   "cell_type": "code",
   "execution_count": 14,
   "metadata": {},
   "outputs": [
    {
     "data": {
      "text/plain": [
       "[<tf.Tensor 'pool:0' shape=(352, 1, 1, 100) dtype=float32>]"
      ]
     },
     "execution_count": 14,
     "metadata": {},
     "output_type": "execute_result"
    }
   ],
   "source": [
    "filter_size=3\n",
    "y_max = tf.nn.max_pool(h, ksize=[1, 95 - filter_size + 1, 1, 1],strides=[1, 1, 1, 1],padding='VALID',name=\"pool\")\n",
    "pooled_outputs.append(y_max)\n",
    "pooled_outputs"
   ]
  },
  {
   "cell_type": "code",
   "execution_count": 15,
   "metadata": {},
   "outputs": [
    {
     "data": {
      "text/plain": [
       "<tf.Tensor 'Reshape:0' shape=(352, 1, 100) dtype=float32>"
      ]
     },
     "execution_count": 15,
     "metadata": {},
     "output_type": "execute_result"
    }
   ],
   "source": [
    "pooled_reshape=tf.reshape(pooled_outputs,[batch_size,1,100])\n",
    "pooled_reshape"
   ]
  },
  {
   "cell_type": "code",
   "execution_count": 16,
   "metadata": {
    "scrolled": true
   },
   "outputs": [],
   "source": [
    "#Feed Foward Neural Network\n",
    "l2_loss = tf.constant(0.0)\n",
    "\n",
    "W_o = tf.get_variable(\"W_0\",shape=[batch_size,100, 2],initializer=tf.contrib.layers.xavier_initializer())\n",
    "b_o = tf.Variable(tf.constant(0.1, shape=[batch_size,1,2]), name=\"b_o\")\n",
    "l2_loss += tf.nn.l2_loss(W_o)\n",
    "l2_loss += tf.nn.l2_loss(b_o)\n",
    "scores = tf.matmul(pooled_reshape,W_o)+b_o\n",
    "scores=tf.squeeze(scores)\n",
    "predictions = tf.argmax(scores, 1, name=\"predictions\")\n"
   ]
  },
  {
   "cell_type": "code",
   "execution_count": 17,
   "metadata": {},
   "outputs": [
    {
     "data": {
      "text/plain": [
       "(<tf.Tensor 'Squeeze:0' shape=(352, 2) dtype=float32>,\n",
       " <tf.Tensor 'predictions:0' shape=(352,) dtype=int64>)"
      ]
     },
     "execution_count": 17,
     "metadata": {},
     "output_type": "execute_result"
    }
   ],
   "source": [
    "scores,predictions"
   ]
  },
  {
   "cell_type": "code",
   "execution_count": 18,
   "metadata": {},
   "outputs": [
    {
     "name": "stdout",
     "output_type": "stream",
     "text": [
      "Tensor(\"Squeeze:0\", shape=(352, 2), dtype=float32) Tensor(\"input_y:0\", shape=(?, 2), dtype=float32)\n"
     ]
    }
   ],
   "source": [
    "with tf.name_scope(\"loss\"):\n",
    "            losses = tf.nn.softmax_cross_entropy_with_logits_v2(logits=scores, labels=input_y)\n",
    "            \n",
    "print(scores,input_y)\n",
    "l2_constraint = tf.constant(3.0)\n",
    "loss = tf.reduce_mean(losses) + 0.01 * l2_loss"
   ]
  },
  {
   "cell_type": "code",
   "execution_count": 19,
   "metadata": {},
   "outputs": [],
   "source": [
    "optimizer = tf.train.AdagradOptimizer(0.01).minimize(loss)\n",
    "correct_predictions = tf.equal(predictions, tf.argmax(input_y, 1))\n",
    "accuracy = tf.reduce_mean(tf.cast(correct_predictions, \"float\"), name=\"accuracy\")\n",
    "\n",
    "#grads_and_vars = optimizer.compute_gradients(loss)"
   ]
  },
  {
   "cell_type": "code",
   "execution_count": 20,
   "metadata": {
    "scrolled": true
   },
   "outputs": [
    {
     "name": "stdout",
     "output_type": "stream",
     "text": [
      "save ! epoch :  0\n",
      "Epoch: 0001 Cost = 0.750514380721485\n",
      "Epoch: 0002 Cost = 0.7371103437507854\n",
      "Epoch: 0003 Cost = 0.7273147190318391\n",
      "Epoch: 0004 Cost = 0.7183419485302533\n",
      "Epoch: 0005 Cost = 0.7087297788437672\n",
      "Epoch: 0006 Cost = 0.6967791371485768\n",
      "Epoch: 0007 Cost = 0.678168507007992\n",
      "Epoch: 0008 Cost = 0.6525482403881403\n",
      "Epoch: 0009 Cost = 0.6232091812526479\n",
      "Epoch: 0010 Cost = 0.5908811719978555\n",
      "Epoch: 0011 Cost = 0.5660551178104732\n",
      "Epoch: 0012 Cost = 0.5403125758556766\n",
      "Epoch: 0013 Cost = 0.5207122954375606\n",
      "Epoch: 0014 Cost = 0.5026477438562058\n",
      "Epoch: 0015 Cost = 0.4904296936357721\n",
      "Epoch: 0016 Cost = 0.47811536525978743\n",
      "Epoch: 0017 Cost = 0.46673320978879923\n",
      "Epoch: 0018 Cost = 0.4559201882166023\n",
      "Epoch: 0019 Cost = 0.44656922300072305\n",
      "Epoch: 0020 Cost = 0.44110410266062794\n",
      "Epoch: 0021 Cost = 0.4343304895302831\n",
      "Epoch: 0022 Cost = 0.4270080672467459\n",
      "Epoch: 0023 Cost = 0.4243261035750891\n",
      "Epoch: 0024 Cost = 0.4180341682889881\n",
      "Epoch: 0025 Cost = 0.4142425072543763\n",
      "Epoch: 0026 Cost = 0.40862745239454146\n",
      "Epoch: 0027 Cost = 0.405240387513357\n",
      "Epoch: 0028 Cost = 0.40004691271220943\n",
      "Epoch: 0029 Cost = 0.39759893995874085\n",
      "Epoch: 0030 Cost = 0.39218635225997245\n",
      "Epoch: 0031 Cost = 0.3901123421157109\n",
      "Epoch: 0032 Cost = 0.38889758437871913\n",
      "Epoch: 0033 Cost = 0.3825510329183408\n",
      "Epoch: 0034 Cost = 0.38069230353130995\n",
      "Epoch: 0035 Cost = 0.37984822690486897\n",
      "Epoch: 0036 Cost = 0.37640015237471636\n",
      "Epoch: 0037 Cost = 0.3721257390344847\n",
      "Epoch: 0038 Cost = 0.36986974407644846\n",
      "Epoch: 0039 Cost = 0.368335164031562\n",
      "Epoch: 0040 Cost = 0.36742534611155003\n",
      "Epoch: 0041 Cost = 0.3632181782056304\n",
      "Epoch: 0042 Cost = 0.3602268595029327\n",
      "Epoch: 0043 Cost = 0.3595433944288417\n",
      "Epoch: 0044 Cost = 0.35631814897060377\n",
      "Epoch: 0045 Cost = 0.3584638844518101\n",
      "Epoch: 0046 Cost = 0.35368531258667224\n",
      "Epoch: 0047 Cost = 0.3512036979198453\n",
      "Epoch: 0048 Cost = 0.35107456016189903\n",
      "Epoch: 0049 Cost = 0.347603989524\n",
      "Epoch: 0050 Cost = 0.3477890108438099\n",
      "save ! epoch :  50\n",
      "Epoch: 0051 Cost = 0.34408612601897287\n",
      "Epoch: 0052 Cost = 0.33973151024650144\n",
      "Epoch: 0053 Cost = 0.3405620515346528\n",
      "Epoch: 0054 Cost = 0.33838885426521303\n",
      "Epoch: 0055 Cost = 0.3341146971372997\n",
      "Epoch: 0056 Cost = 0.3345348792917588\n",
      "Epoch: 0057 Cost = 0.3337907019783471\n",
      "Epoch: 0058 Cost = 0.3353190108257179\n",
      "Epoch: 0059 Cost = 0.3290281500886471\n",
      "Epoch: 0060 Cost = 0.33130566959871977\n",
      "Epoch: 0061 Cost = 0.3275755531647628\n",
      "Epoch: 0062 Cost = 0.32440381453317785\n",
      "Epoch: 0063 Cost = 0.3230905699379304\n",
      "Epoch: 0064 Cost = 0.32524976493681185\n",
      "Epoch: 0065 Cost = 0.32249927590875077\n",
      "Epoch: 0066 Cost = 0.32062201464877416\n",
      "Epoch: 0067 Cost = 0.32304766620783254\n",
      "Epoch: 0068 Cost = 0.3187175280907573\n",
      "Epoch: 0069 Cost = 0.3157497807022403\n",
      "Epoch: 0070 Cost = 0.3160700224778233\n",
      "Epoch: 0071 Cost = 0.3148230976041629\n",
      "Epoch: 0072 Cost = 0.31022696223329105\n",
      "Epoch: 0073 Cost = 0.3147168332601293\n",
      "Epoch: 0074 Cost = 0.3123860140933709\n",
      "Epoch: 0075 Cost = 0.30638869049794565\n",
      "Epoch: 0076 Cost = 0.31011780855410215\n",
      "Epoch: 0077 Cost = 0.3078558352501955\n",
      "Epoch: 0078 Cost = 0.30385932352613004\n",
      "Epoch: 0079 Cost = 0.3041234859648872\n",
      "Epoch: 0080 Cost = 0.30482332224354997\n",
      "Epoch: 0081 Cost = 0.301968607788577\n",
      "Epoch: 0082 Cost = 0.30117580084239726\n",
      "Epoch: 0083 Cost = 0.29815907631726846\n",
      "Epoch: 0084 Cost = 0.2951775639810983\n",
      "Epoch: 0085 Cost = 0.2959381404606734\n",
      "Epoch: 0086 Cost = 0.2963123990332377\n",
      "Epoch: 0087 Cost = 0.2942340502844138\n",
      "Epoch: 0088 Cost = 0.2925856009125709\n",
      "Epoch: 0089 Cost = 0.29133092572583863\n",
      "Epoch: 0090 Cost = 0.28860235455281574\n",
      "Epoch: 0091 Cost = 0.290045891220079\n",
      "Epoch: 0092 Cost = 0.28773550141383614\n",
      "Epoch: 0093 Cost = 0.28692291769034706\n",
      "Epoch: 0094 Cost = 0.2869008636211649\n",
      "Epoch: 0095 Cost = 0.2818354700856349\n",
      "Epoch: 0096 Cost = 0.2811956037931581\n",
      "Epoch: 0097 Cost = 0.28042750455000803\n",
      "Epoch: 0098 Cost = 0.2823749444940511\n",
      "Epoch: 0099 Cost = 0.2816215823678409\n",
      "Epoch: 0100 Cost = 0.2777098480392906\n",
      "save ! epoch :  100\n",
      "Epoch: 0101 Cost = 0.276726498542463\n",
      "Epoch: 0102 Cost = 0.2769317593644646\n",
      "Epoch: 0103 Cost = 0.27291430068366657\n",
      "Epoch: 0104 Cost = 0.27290104452301467\n",
      "Epoch: 0105 Cost = 0.27289639768355034\n",
      "Epoch: 0106 Cost = 0.2715020963812576\n",
      "Epoch: 0107 Cost = 0.270377991217024\n",
      "Epoch: 0108 Cost = 0.26879925302722896\n",
      "Epoch: 0109 Cost = 0.2674420530743457\n",
      "Epoch: 0110 Cost = 0.2656454187982224\n",
      "Epoch: 0111 Cost = 0.26859471478006425\n",
      "Epoch: 0112 Cost = 0.2642347235013459\n",
      "Epoch: 0113 Cost = 0.26227954761946926\n",
      "Epoch: 0114 Cost = 0.2627801039201373\n",
      "Epoch: 0115 Cost = 0.26267803140422874\n",
      "Epoch: 0116 Cost = 0.2606543114956688\n",
      "Epoch: 0117 Cost = 0.2608285683042864\n",
      "Epoch: 0118 Cost = 0.2568941638311918\n",
      "Epoch: 0119 Cost = 0.25796980117173757\n",
      "Epoch: 0120 Cost = 0.2578986735904918\n",
      "Epoch: 0121 Cost = 0.25568867439732823\n",
      "Epoch: 0122 Cost = 0.25507101008997257\n",
      "Epoch: 0123 Cost = 0.25319718271493913\n",
      "Epoch: 0124 Cost = 0.25714375946451623\n",
      "Epoch: 0125 Cost = 0.2527708433130209\n",
      "Epoch: 0126 Cost = 0.2504981477909229\n",
      "Epoch: 0127 Cost = 0.24727822138982672\n",
      "Epoch: 0128 Cost = 0.24690654027987927\n",
      "Epoch: 0129 Cost = 0.2486035739236018\n",
      "Epoch: 0130 Cost = 0.2441505252438431\n",
      "Epoch: 0131 Cost = 0.24349677834440675\n",
      "Epoch: 0132 Cost = 0.24163715037352904\n",
      "Epoch: 0133 Cost = 0.24207234229235103\n",
      "Epoch: 0134 Cost = 0.2441730340614038\n",
      "Epoch: 0135 Cost = 0.23890931172405963\n",
      "Epoch: 0136 Cost = 0.2401958832845969\n",
      "Epoch: 0137 Cost = 0.23818513435475994\n",
      "Epoch: 0138 Cost = 0.23764777043286495\n",
      "Epoch: 0139 Cost = 0.23781386434155338\n",
      "Epoch: 0140 Cost = 0.23454289554673077\n",
      "Epoch: 0141 Cost = 0.23580419307245934\n",
      "Epoch: 0142 Cost = 0.23586336058728843\n",
      "Epoch: 0143 Cost = 0.232807480368544\n",
      "Epoch: 0144 Cost = 0.23246884104960108\n",
      "Epoch: 0145 Cost = 0.22913021414595486\n",
      "Epoch: 0146 Cost = 0.23164643785532785\n",
      "Epoch: 0147 Cost = 0.22874730501104798\n",
      "Epoch: 0148 Cost = 0.229504789806464\n",
      "Epoch: 0149 Cost = 0.22784076723105787\n",
      "Epoch: 0150 Cost = 0.22408060615553577\n",
      "save ! epoch :  150\n",
      "Epoch: 0151 Cost = 0.22631982152952862\n",
      "Epoch: 0152 Cost = 0.22447121958522245\n",
      "Epoch: 0153 Cost = 0.2246154017746449\n",
      "Epoch: 0154 Cost = 0.22334298377527897\n",
      "Epoch: 0155 Cost = 0.2237973335472975\n",
      "Epoch: 0156 Cost = 0.2235298540662316\n",
      "Epoch: 0157 Cost = 0.21881541075075386\n",
      "Epoch: 0158 Cost = 0.21855489843908482\n",
      "Epoch: 0159 Cost = 0.21773828417062757\n",
      "Epoch: 0160 Cost = 0.21994772816405575\n",
      "Epoch: 0161 Cost = 0.2159862293478323\n",
      "Epoch: 0162 Cost = 0.21561298107399654\n",
      "Epoch: 0163 Cost = 0.2162790232283227\n",
      "Epoch: 0164 Cost = 0.21506649729083563\n",
      "Epoch: 0165 Cost = 0.21504649094798983\n",
      "Epoch: 0166 Cost = 0.21189504546277663\n",
      "Epoch: 0167 Cost = 0.21360510109978556\n",
      "Epoch: 0168 Cost = 0.21094276598271197\n",
      "Epoch: 0169 Cost = 0.21205449634615114\n",
      "Epoch: 0170 Cost = 0.20873372808975327\n",
      "Epoch: 0171 Cost = 0.20757542090380893\n",
      "Epoch: 0172 Cost = 0.2063659380463993\n",
      "Epoch: 0173 Cost = 0.20641648471355437\n",
      "Epoch: 0174 Cost = 0.20738111699328693\n",
      "Epoch: 0175 Cost = 0.20585908648722318\n",
      "Epoch: 0176 Cost = 0.20240134772132407\n",
      "Epoch: 0177 Cost = 0.2039967996232651\n",
      "Epoch: 0178 Cost = 0.20286600659875317\n",
      "Epoch: 0179 Cost = 0.20320061887888347\n",
      "Epoch: 0180 Cost = 0.20293458336416392\n",
      "Epoch: 0181 Cost = 0.19866305173319934\n",
      "Epoch: 0182 Cost = 0.20123298067380402\n",
      "Epoch: 0183 Cost = 0.20001691194141635\n",
      "Epoch: 0184 Cost = 0.2009968002929407\n",
      "Epoch: 0185 Cost = 0.19854284761583105\n",
      "Epoch: 0186 Cost = 0.19677083259996248\n",
      "Epoch: 0187 Cost = 0.19469319542541222\n",
      "Epoch: 0188 Cost = 0.19648280831820827\n",
      "Epoch: 0189 Cost = 0.19710697251207687\n",
      "Epoch: 0190 Cost = 0.19575896539232318\n",
      "Epoch: 0191 Cost = 0.19478560738703798\n",
      "Epoch: 0192 Cost = 0.19423811010578085\n",
      "Epoch: 0193 Cost = 0.19357525364441028\n",
      "Epoch: 0194 Cost = 0.19249521511442524\n",
      "Epoch: 0195 Cost = 0.19030218615251437\n",
      "Epoch: 0196 Cost = 0.19149014327455946\n",
      "Epoch: 0197 Cost = 0.19567506067893098\n",
      "Epoch: 0198 Cost = 0.1932396623579893\n",
      "Epoch: 0199 Cost = 0.19011321909287393\n",
      "Epoch: 0200 Cost = 0.1872569920385583\n",
      "save ! epoch :  200\n",
      "Epoch: 0201 Cost = 0.18684448985492494\n",
      "Epoch: 0202 Cost = 0.1855298020383892\n",
      "Epoch: 0203 Cost = 0.1879122874754317\n",
      "Epoch: 0204 Cost = 0.18431780627545205\n",
      "Epoch: 0205 Cost = 0.18626095374279164\n",
      "Epoch: 0206 Cost = 0.1844596605528803\n",
      "Epoch: 0207 Cost = 0.18387081368881117\n",
      "Epoch: 0208 Cost = 0.18146328312509202\n",
      "Epoch: 0209 Cost = 0.180588032962645\n",
      "Epoch: 0210 Cost = 0.1828873616369332\n",
      "Epoch: 0211 Cost = 0.1792728072580169\n"
     ]
    },
    {
     "name": "stdout",
     "output_type": "stream",
     "text": [
      "Epoch: 0212 Cost = 0.1812484762467005\n",
      "Epoch: 0213 Cost = 0.18284101661513846\n",
      "Epoch: 0214 Cost = 0.1852720207151246\n",
      "Epoch: 0215 Cost = 0.1798523497932097\n",
      "Epoch: 0216 Cost = 0.1794020511648233\n",
      "Epoch: 0217 Cost = 0.17532508500358632\n",
      "Epoch: 0218 Cost = 0.17930162005564745\n",
      "Epoch: 0219 Cost = 0.17776270464939223\n",
      "Epoch: 0220 Cost = 0.17614754114080877\n",
      "Epoch: 0221 Cost = 0.17438084597096734\n",
      "Epoch: 0222 Cost = 0.17607281771214572\n",
      "Epoch: 0223 Cost = 0.17336383882690884\n",
      "Epoch: 0224 Cost = 0.17128562339965048\n",
      "Epoch: 0225 Cost = 0.17154489146435964\n",
      "Epoch: 0226 Cost = 0.17180524510057527\n",
      "Epoch: 0227 Cost = 0.17409811611561235\n",
      "Epoch: 0228 Cost = 0.17589117354329875\n",
      "Epoch: 0229 Cost = 0.17279324216001166\n",
      "Epoch: 0230 Cost = 0.17116288647932154\n",
      "Epoch: 0231 Cost = 0.17134852703003334\n",
      "Epoch: 0232 Cost = 0.16891201149453142\n",
      "Epoch: 0233 Cost = 0.17129422853536458\n",
      "Epoch: 0234 Cost = 0.16847248024800257\n",
      "Epoch: 0235 Cost = 0.16906610330676317\n",
      "Epoch: 0236 Cost = 0.1648973915725947\n",
      "Epoch: 0237 Cost = 0.16421137962709453\n",
      "Epoch: 0238 Cost = 0.167671896385796\n",
      "Epoch: 0239 Cost = 0.16672057399854945\n",
      "Epoch: 0240 Cost = 0.16545850251089134\n",
      "Epoch: 0241 Cost = 0.16415658439783487\n",
      "Epoch: 0242 Cost = 0.16476554289898435\n",
      "Epoch: 0243 Cost = 0.16294698101632718\n",
      "Epoch: 0244 Cost = 0.1610321280710838\n",
      "Epoch: 0245 Cost = 0.16467353392611517\n",
      "Epoch: 0246 Cost = 0.16206057731281318\n",
      "Epoch: 0247 Cost = 0.16057961269774845\n",
      "Epoch: 0248 Cost = 0.16238128260216297\n",
      "Epoch: 0249 Cost = 0.16106075914028808\n",
      "Epoch: 0250 Cost = 0.15766843956182972\n",
      "save ! epoch :  250\n",
      "Epoch: 0251 Cost = 0.16285958704264725\n",
      "Epoch: 0252 Cost = 0.15826238010297805\n",
      "Epoch: 0253 Cost = 0.1682040993781651\n",
      "Epoch: 0254 Cost = 0.1582323070834664\n",
      "Epoch: 0255 Cost = 0.15411364374791878\n",
      "Epoch: 0256 Cost = 0.15832605482462578\n",
      "Epoch: 0257 Cost = 0.15758247349192103\n",
      "Epoch: 0258 Cost = 0.15450703368029173\n",
      "Epoch: 0259 Cost = 0.15579708376351536\n",
      "Epoch: 0260 Cost = 0.15300397099379234\n",
      "Epoch: 0261 Cost = 0.155105767837342\n",
      "Epoch: 0262 Cost = 0.15563972158467074\n",
      "Epoch: 0263 Cost = 0.15135157088584753\n",
      "Epoch: 0264 Cost = 0.15290082767605775\n",
      "Epoch: 0265 Cost = 0.1545909073861207\n",
      "Epoch: 0266 Cost = 0.1521212654078708\n",
      "Epoch: 0267 Cost = 0.15372694375760423\n",
      "Epoch: 0268 Cost = 0.1507648066343628\n",
      "Epoch: 0269 Cost = 0.1580615690744976\n",
      "Epoch: 0270 Cost = 0.18009444481747974\n",
      "Epoch: 0271 Cost = 0.15815145176123188\n",
      "Epoch: 0272 Cost = 0.15328309496535983\n",
      "Epoch: 0273 Cost = 0.14774956860963043\n",
      "Epoch: 0274 Cost = 0.14823069061864833\n",
      "Epoch: 0275 Cost = 0.1492011864614838\n",
      "Epoch: 0276 Cost = 0.14779693782329556\n",
      "Epoch: 0277 Cost = 0.14846586773500728\n",
      "Epoch: 0278 Cost = 0.15022693342145754\n",
      "Epoch: 0279 Cost = 0.1490871763404678\n",
      "Epoch: 0280 Cost = 0.14674816675045926\n",
      "Epoch: 0281 Cost = 0.14412140927332281\n",
      "Epoch: 0282 Cost = 0.14358750884147253\n",
      "Epoch: 0283 Cost = 0.14192310795187965\n",
      "Epoch: 0284 Cost = 0.14305235145284848\n",
      "Epoch: 0285 Cost = 0.1436875338282655\n",
      "Epoch: 0286 Cost = 0.1428166042575065\n",
      "Epoch: 0287 Cost = 0.14137556335943585\n",
      "Epoch: 0288 Cost = 0.139685034006834\n",
      "Epoch: 0289 Cost = 0.13852974058074105\n",
      "Epoch: 0290 Cost = 0.1382463694495314\n",
      "Epoch: 0291 Cost = 0.1460537427488495\n",
      "Epoch: 0292 Cost = 0.14456341292928243\n",
      "Epoch: 0293 Cost = 0.14050532171831415\n",
      "Epoch: 0294 Cost = 0.14476982642184288\n",
      "Epoch: 0295 Cost = 0.13999092789257275\n",
      "Epoch: 0296 Cost = 0.1402093341902775\n",
      "Epoch: 0297 Cost = 0.1381682642023354\n",
      "Epoch: 0298 Cost = 0.13546390274868303\n",
      "Epoch: 0299 Cost = 0.1352396689793643\n",
      "Epoch: 0300 Cost = 0.13452651165425775\n",
      "save ! epoch :  300\n",
      "Epoch: 0301 Cost = 0.13532507901682572\n",
      "Learning Finished!\n",
      "Learning time :  40551.8701171875\n"
     ]
    }
   ],
   "source": [
    "# initialize\n",
    "cost = []\n",
    "saver = tf.train.Saver()\n",
    "sess = tf.Session()\n",
    "sess.run(tf.global_variables_initializer())\n",
    "training_epochs = 301\n",
    "start_time=time.time()\n",
    "\n",
    "npz_x=[]\n",
    "npz_loss=[]\n",
    "npz_acc=[]\n",
    "\n",
    "\n",
    "# train my model\n",
    "for epoch in range(training_epochs):\n",
    "    avg_cost = 0\n",
    "    avg_acc = 0\n",
    "    total_batch = int(len(x_train) / batch_size)\n",
    "    if(epoch%50==0):\n",
    "        saver.save(sess, './saver_data/conv_bn_lr_01/train_model_%04d.ckpt' % (epoch))\n",
    "        print(\"save ! epoch : \",epoch)\n",
    "    for i in range(total_batch):\n",
    "        batch_xs, batch_ys = next_batch(batch_size,x_train,y_train)\n",
    "        feed_dict = {input_x: batch_xs, input_y: batch_ys, dropout_keep_prob:0.5,phase_train:True}\n",
    "        c, _ ,acc= sess.run([loss, optimizer,accuracy], feed_dict=feed_dict)\n",
    "        avg_cost += c / total_batch\n",
    "        avg_acc += acc/total_batch\n",
    "        \n",
    "    npz_x.append(epoch)#x 축 저장\n",
    "    npz_loss.append(avg_cost) #loss 저장\n",
    "    npz_acc.append(avg_acc)\n",
    "    np.savez(\"./saver_data/conv_bn_lr_01/Cost_relu_training_rate_0_5.npz\",x = npz_x,y = npz_loss)\n",
    "    np.savez(\"./saver_data/conv_bn_lr_01/Acc_relu_training_rate_0_5.npz\",x = npz_x,y = npz_acc)\n",
    "    print('Epoch:', '%04d' % (epoch + 1), 'Cost =',avg_cost)\n",
    "\n",
    "print('Learning Finished!')\n",
    "print('Learning time : ',time.time()-start_time)"
   ]
  },
  {
   "cell_type": "code",
   "execution_count": 21,
   "metadata": {},
   "outputs": [],
   "source": [
    "def calculate_recall_precision_f1(batch_size,test_logits,test_labels):\n",
    "    tp=0 # True positive\n",
    "    tn=0\n",
    "    fp=0 # False positive\n",
    "    fn=0 # False negative    \n",
    "    for i in range(batch_size):\n",
    "        if(test_logits[i]==1 and test_labels[i]==1):# tp \n",
    "            tp+=1\n",
    "        elif(test_logits[i]==0 and test_labels[i]==0):#tn\n",
    "            tn+=1\n",
    "        elif(test_logits[i]==1 and test_labels[i]==0):#fp\n",
    "            fp+=1\n",
    "        elif(test_logits[i]==0 and test_labels[i]==1):#fn\n",
    "            fn+=1\n",
    "#     print(\"tp:\",tp,\"fp:\",fp,\"tn:\",tn,\"fn:\",fn)\n",
    "    Precision=tp/(tp+fp)\n",
    "    Recall=tp/(tp+fn)\n",
    "    F1=2*(Precision*Recall)/(Precision+Recall)\n",
    "    return Precision,Recall,F1"
   ]
  },
  {
   "cell_type": "code",
   "execution_count": 22,
   "metadata": {},
   "outputs": [],
   "source": [
    "def judge_data(batch_size,x_test,test_labels,test_logits):\n",
    "    wrong_x_data=[]\n",
    "    for i in range(batch_size):\n",
    "        if(test_labels[i]!=test_logits[i]):\n",
    "            wrong_x_data.append(x_test[i])\n",
    "    return wrong_x_data"
   ]
  },
  {
   "cell_type": "code",
   "execution_count": 23,
   "metadata": {},
   "outputs": [
    {
     "name": "stdout",
     "output_type": "stream",
     "text": [
      "INFO:tensorflow:Restoring parameters from ./saver_data/conv_bn_lr_01/train_model_0200.ckpt\n"
     ]
    }
   ],
   "source": [
    "#####################################################test##########################################################################\n",
    "sess=tf.Session()\n",
    "sess.run(tf.global_variables_initializer())\n",
    "saver = tf.train.Saver()\n",
    "saver.restore(sess, \"./saver_data/conv_bn_lr_01/train_model_0200.ckpt\")#load training data\n",
    "x_axis=[]#x 축\n",
    "acc_test=[]#accuracy\n",
    "precision_test=[]#precision\n",
    "recall_test=[]#recall\n",
    "f1_test=[]#f1\n",
    "length=int(len(x_dev)/batch_size)\n",
    "avg_acc=0\n",
    "for index in range(length):\n",
    "    batch_xs, batch_ys = next_batch(batch_size,x_dev,y_dev)    \n",
    "    feed_dict={input_x:batch_xs,input_y:batch_ys,dropout_keep_prob:1,phase_train:False}\n",
    "    acc=sess.run(accuracy,feed_dict=feed_dict)\n",
    "    \n",
    "    acc_test.append(acc)\n",
    "    x_axis.append(index)\n",
    "    #print(\" acc : \",acc)\n",
    "    np.savez(\"./saver_data/conv_bn_lr_01/Acc_relu_test_rate_0_5.npz\",x = x_axis,y = acc_test)\n",
    "    test_logits=sess.run(predictions,feed_dict)#추정값\n",
    "    test_labels=np.argmax(batch_ys,1)\n",
    "    #precision , recall , F1\n",
    "    pre_t,rec_t,f1_t=calculate_recall_precision_f1(batch_size,test_labels=test_labels,test_logits=test_logits)\n",
    "    precision_test.append(pre_t)\n",
    "    recall_test.append(rec_t)\n",
    "    f1_test.append(f1_t)\n",
    "    \n",
    "    wrong_x=judge_data(batch_size,x_test=batch_xs,test_labels=test_labels,test_logits=test_logits)#틀린 데이터 모아놓음\n",
    "    np.savez(\"./saver_data/conv_bn_lr_01/Precision_relu_test_rate_0_5.npz\",x = x_axis,y = precision_test)\n",
    "    np.savez(\"./saver_data/conv_bn_lr_01/Recall_relu_test_rate_0_5.npz\",x = x_axis,y = recall_test)\n",
    "    np.savez(\"./saver_data/conv_bn_lr_01/F1_relu_test_rate_0_5.npz\",x = x_axis,y = f1_test)\n",
    "    \n",
    "    "
   ]
  },
  {
   "cell_type": "code",
   "execution_count": 24,
   "metadata": {},
   "outputs": [],
   "source": [
    "#for i in range(len(wrong_x)):\n",
    "#    print(wrong_x[i])"
   ]
  },
  {
   "cell_type": "code",
   "execution_count": 25,
   "metadata": {
    "scrolled": true
   },
   "outputs": [
    {
     "data": {
      "image/png": "[encoded data removed]",
      "text/plain": [
       "<matplotlib.figure.Figure at 0x1cc486a3eb8>"
      ]
     },
     "metadata": {},
     "output_type": "display_data"
    },
    {
     "name": "stdout",
     "output_type": "stream",
     "text": [
      "average : 0.8480350033801632\n",
      "-10average : 0.8456925407551161\n",
      "max : 0.9135135135135135\n"
     ]
    }
   ],
   "source": [
    "#Draw test precision\n",
    "import numpy as np\n",
    "%matplotlib inline\n",
    "\n",
    "import matplotlib.pyplot as plt\n",
    "import matplotlib\n",
    "precision_data = np.load(\"./saver_data/conv_bn_lr_01/Precision_relu_test_rate_0_5.npz\")\n",
    "plot_x=range(len(precision_data['x']))\n",
    "plot_y=precision_data['y']\n",
    "\n",
    "plt.title('test Precision')\n",
    "plt.plot(plot_x,plot_y)\n",
    "plt.show()\n",
    "print ('average : '+str(np.average(precision_data['y'])))\n",
    "print ('-10average : '+str(np.average(precision_data['y'][-10:])))\n",
    "print ('max : '+str(np.max(precision_data['y'])))\n"
   ]
  },
  {
   "cell_type": "code",
   "execution_count": 26,
   "metadata": {},
   "outputs": [
    {
     "data": {
      "image/png": "[encoded data removed]",
      "text/plain": [
       "<matplotlib.figure.Figure at 0x1cc510b1748>"
      ]
     },
     "metadata": {},
     "output_type": "display_data"
    },
    {
     "name": "stdout",
     "output_type": "stream",
     "text": [
      "average : 0.8239091755108408\n",
      "-10average : 0.8355577333336864\n",
      "max : 0.8920454545454546\n"
     ]
    }
   ],
   "source": [
    "#Draw test Recall\n",
    "%matplotlib inline\n",
    "\n",
    "\n",
    "import matplotlib.pyplot as plt\n",
    "import matplotlib\n",
    "recall_data = np.load(\"./saver_data/conv_bn_lr_01/Recall_relu_test_rate_0_5.npz\")\n",
    "plot_x=range(len(recall_data['x']))\n",
    "plot_y=recall_data['y']\n",
    "\n",
    "plt.title('test Recall')\n",
    "plt.plot(plot_x,plot_y)\n",
    "plt.show()\n",
    "print ('average : '+str(np.average(recall_data['y'])))\n",
    "print ('-10average : '+str(np.average(recall_data['y'][-10:])))\n",
    "print ('max : '+str(np.max(recall_data['y'])))\n"
   ]
  },
  {
   "cell_type": "code",
   "execution_count": 27,
   "metadata": {},
   "outputs": [
    {
     "data": {
      "image/png": "[encoded data removed]",
      "text/plain": [
       "<matplotlib.figure.Figure at 0x1cc510a49e8>"
      ]
     },
     "metadata": {},
     "output_type": "display_data"
    },
    {
     "name": "stdout",
     "output_type": "stream",
     "text": [
      "average : 0.8353628886831906\n",
      "-10average : 0.8397700195880955\n",
      "max : 0.8777777777777779\n"
     ]
    }
   ],
   "source": [
    "#Draw test F1\n",
    "%matplotlib inline\n",
    "\n",
    "import matplotlib.pyplot as plt\n",
    "import matplotlib\n",
    "f1_data = np.load(\"./saver_data/conv_bn_lr_01/F1_relu_test_rate_0_5.npz\")\n",
    "plot_x=range(len(f1_data['x']))\n",
    "plot_y=f1_data['y']\n",
    "\n",
    "plt.title('test F1')\n",
    "plt.plot(plot_x,plot_y)\n",
    "plt.show()\n",
    "print ('average : '+str(np.average(f1_data['y'])))\n",
    "print ('-10average : '+str(np.average(f1_data['y'][-10:])))\n",
    "print ('max : '+str(np.max(f1_data['y'])))"
   ]
  },
  {
   "cell_type": "code",
   "execution_count": 28,
   "metadata": {},
   "outputs": [
    {
     "data": {
      "image/png": "[encoded data removed]",
      "text/plain": [
       "<matplotlib.figure.Figure at 0x1cc5128d898>"
      ]
     },
     "metadata": {},
     "output_type": "display_data"
    },
    {
     "name": "stdout",
     "output_type": "stream",
     "text": [
      "average : 0.25855371553217127\n",
      "-10average : 0.13887622497537558\n",
      "min : 0.13452651165425775\n"
     ]
    }
   ],
   "source": [
    "#Draw traing Cost\n",
    "%matplotlib inline\n",
    "\n",
    "import matplotlib.pyplot as plt\n",
    "import matplotlib\n",
    "cost_data = np.load(\"./saver_data/conv_bn_lr_01/Cost_relu_training_rate_0_5.npz\")\n",
    "plot_x=range(len(cost_data['x']))\n",
    "plot_y=cost_data['y']\n",
    "\n",
    "plt.title('Training Cost')\n",
    "plt.plot(plot_x,plot_y)\n",
    "plt.show()\n",
    "print ('average : '+str(np.average(cost_data['y'])))\n",
    "print ('-10average : '+str(np.average(cost_data['y'][-10:])))\n",
    "print ('min : '+str(np.min(cost_data['y'])))\n"
   ]
  },
  {
   "cell_type": "code",
   "execution_count": 29,
   "metadata": {
    "scrolled": false
   },
   "outputs": [
    {
     "data": {
      "image/png": "[encoded data removed]",
      "text/plain": [
       "<matplotlib.figure.Figure at 0x1cc497b2f60>"
      ]
     },
     "metadata": {},
     "output_type": "display_data"
    },
    {
     "name": "stdout",
     "output_type": "stream",
     "text": [
      "average : 0.904282627316025\n",
      "-10average : 0.962303642805885\n",
      "max : 0.9640040127670059\n"
     ]
    }
   ],
   "source": [
    "#Draw traing Cost\n",
    "%matplotlib inline\n",
    "\n",
    "import matplotlib.pyplot as plt\n",
    "import matplotlib\n",
    "#Draw Acc training\n",
    "acc_data = np.load(\"./saver_data/conv_bn_lr_01/Acc_relu_training_rate_0_5.npz\")\n",
    "plot_x=range(len(acc_data['x']))\n",
    "plot_y=acc_data['y']\n",
    "\n",
    "plt.title('Training Accuracy')\n",
    "plt.plot(plot_x,plot_y)\n",
    "plt.show()\n",
    "print ('average : '+str(np.average(acc_data['y'])))\n",
    "print ('-10average : '+str(np.average(acc_data['y'][-10:])))\n",
    "print ('max : '+str(np.max(acc_data['y'])))\n"
   ]
  },
  {
   "cell_type": "code",
   "execution_count": 30,
   "metadata": {},
   "outputs": [
    {
     "data": {
      "image/png": "[encoded data removed]",
      "text/plain": [
       "<matplotlib.figure.Figure at 0x1cc51775f60>"
      ]
     },
     "metadata": {},
     "output_type": "display_data"
    },
    {
     "name": "stdout",
     "output_type": "stream",
     "text": [
      "average : 0.8389773\n",
      "-10average : 0.8389773\n",
      "max : 0.87784094\n"
     ]
    }
   ],
   "source": [
    "\n",
    "#Draw traing Cost\n",
    "%matplotlib inline\n",
    "\n",
    "import matplotlib.pyplot as plt\n",
    "import matplotlib\n",
    "#Draw Acc test\n",
    "acc_data = np.load(\"./saver_data/conv_bn_lr_01/Acc_relu_test_rate_0_5.npz\")\n",
    "plot_x=range(len(acc_data['x'][-100:]))\n",
    "plot_y=acc_data['y'][-100:]\n",
    "\n",
    "plt.title('Test Accuracy')\n",
    "plt.plot(plot_x,plot_y)\n",
    "plt.show()\n",
    "print ('average : '+str(np.average(acc_data['y'][-100:])))\n",
    "print ('-10average : '+str(np.average(acc_data['y'][-100:])))\n",
    "print ('max : '+str(np.max(acc_data['y'][-100:])))"
   ]
  },
  {
   "cell_type": "code",
   "execution_count": 31,
   "metadata": {},
   "outputs": [],
   "source": [
    "# #Draw traing Cost\n",
    "# %matplotlib inline\n",
    "\n",
    "# import matplotlib.pyplot as plt\n",
    "# import matplotlib\n",
    "# #Draw Acc test\n",
    "# acc_data = np.load(\"D:/saver_data/relu_bn_0_5_L2/Acc_relu_test_rate_0_5.npz\")\n",
    "# plot_x=range(len(acc_data['x']))\n",
    "# plot_y=acc_data['y']\n",
    "\n",
    "# plt.title('Test Accuracy')\n",
    "# plt.plot(plot_x,plot_y)\n",
    "# plt.show()\n",
    "# print ('average : '+str(np.average(acc_data['y'])))\n",
    "# print ('-10average : '+str(np.average(acc_data['y'])))\n",
    "# print ('max : '+str(np.max(acc_data['y'])))"
   ]
  },
  {
   "cell_type": "code",
   "execution_count": null,
   "metadata": {},
   "outputs": [],
   "source": []
  },
  {
   "cell_type": "code",
   "execution_count": null,
   "metadata": {},
   "outputs": [],
   "source": []
  },
  {
   "cell_type": "code",
   "execution_count": null,
   "metadata": {},
   "outputs": [],
   "source": []
  }
 ],
 "metadata": {
  "kernelspec": {
   "display_name": "Python 3",
   "language": "python",
   "name": "python3"
  },
  "language_info": {
   "codemirror_mode": {
    "name": "ipython",
    "version": 3
   },
   "file_extension": ".py",
   "mimetype": "text/x-python",
   "name": "python",
   "nbconvert_exporter": "python",
   "pygments_lexer": "ipython3",
   "version": "3.6.4"
  }
 },
 "nbformat": 4,
 "nbformat_minor": 2
}
