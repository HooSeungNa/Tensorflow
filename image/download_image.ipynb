{
 "cells": [
  {
   "cell_type": "code",
   "execution_count": 1,
   "metadata": {},
   "outputs": [
    {
     "name": "stderr",
     "output_type": "stream",
     "text": [
      "C:\\Users\\Robotmedia9\\Anaconda3\\lib\\site-packages\\h5py\\__init__.py:36: FutureWarning: Conversion of the second argument of issubdtype from `float` to `np.floating` is deprecated. In future, it will be treated as `np.float64 == np.dtype(float).type`.\n",
      "  from ._conv import register_converters as _register_converters\n"
     ]
    }
   ],
   "source": [
    "%matplotlib inline\n",
    "import numpy as np\n",
    "import tensorflow as tf\n",
    "import cv2\n",
    "import matplotlib.pyplot as plt\n",
    "import random\n",
    "import csv\n",
    "import urllib.request"
   ]
  },
  {
   "cell_type": "code",
   "execution_count": null,
   "metadata": {
    "scrolled": true
   },
   "outputs": [],
   "source": [
    "#image data download 받는법 - url 에서 label , image url 분리\n",
    "f=open('C:\\\\Users\\\\Robotmedia9\\\\Desktop\\\\fall11_urls.txt','r',encoding='utf-8')\n",
    "label=[]\n",
    "data=[]\n",
    "rdr = csv.reader(f)\n",
    "for i,line in enumerate(rdr):\n",
    "    line=\"\".join(line)\n",
    "    label.append(line[:line.find(\"\\t\")])\n",
    "    data.append(line[line.find(\"\\t\")+1:])\n",
    "    print(\"label:\",label[i])\n",
    "    print(\"data:\",data[i])\n",
    "    \n",
    "    if(i==100):\n",
    "        break\n",
    "f.close()\n"
   ]
  },
  {
   "cell_type": "code",
   "execution_count": 34,
   "metadata": {},
   "outputs": [],
   "source": [
    "label=np.array(label)\n",
    "data=np.array(data)\n"
   ]
  },
  {
   "cell_type": "code",
   "execution_count": 35,
   "metadata": {},
   "outputs": [
    {
     "name": "stdout",
     "output_type": "stream",
     "text": [
      "(101,) (101,)\n"
     ]
    }
   ],
   "source": [
    "print(label.shape,data.shape)"
   ]
  },
  {
   "cell_type": "code",
   "execution_count": 46,
   "metadata": {},
   "outputs": [],
   "source": [
    "#image download\n",
    "def download(label,data):\n",
    "    name=str(label)+\".jpg\"\n",
    "    urllib.request.urlretrieve(data,name)\n",
    "    print(\"download complete\")"
   ]
  },
  {
   "cell_type": "code",
   "execution_count": 47,
   "metadata": {},
   "outputs": [
    {
     "name": "stdout",
     "output_type": "stream",
     "text": [
      "download complete\n"
     ]
    }
   ],
   "source": [
    "download(label[0],data[0])"
   ]
  },
  {
   "cell_type": "code",
   "execution_count": null,
   "metadata": {},
   "outputs": [],
   "source": []
  }
 ],
 "metadata": {
  "kernelspec": {
   "display_name": "Python 3",
   "language": "python",
   "name": "python3"
  }
 },
 "nbformat": 4,
 "nbformat_minor": 2
}
