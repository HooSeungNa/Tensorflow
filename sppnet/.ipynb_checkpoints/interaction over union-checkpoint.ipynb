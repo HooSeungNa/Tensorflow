{
 "cells": [
  {
   "cell_type": "code",
   "execution_count": null,
   "metadata": {},
   "outputs": [],
   "source": [
    "def interaction_over_union(box1,box2):\n",
    "    x1=max(box1[0],box2[0])\n",
    "    y1=max(box1[1],box2[1])\n",
    "    x2=min(box1[2],box2[2])\n",
    "    y2=min(box1[3],box2[3])\n",
    "    area_intersection = (x2 - x1) * (y2 - y1)#겹치는 곳의 넓이\n",
    "    area_box1 = (box1[2] - box1[0]) * (box1[3] - box1[1])\n",
    "    area_box2 = (box2[2] - box2[0]) * (box2[3] - box2[1])\n",
    "    area_union = area_box1 + area_box2 - area_intersection\n",
    "    iou = area_intersection/area_union\n",
    "    return iou"
   ]
  }
 ],
 "metadata": {
  "kernelspec": {
   "display_name": "Python 3",
   "language": "python",
   "name": "python3"
  },
  "language_info": {
   "codemirror_mode": {
    "name": "ipython",
    "version": 3
   },
   "file_extension": ".py",
   "mimetype": "text/x-python",
   "name": "python",
   "nbconvert_exporter": "python",
   "pygments_lexer": "ipython3",
   "version": "3.6.4"
  }
 },
 "nbformat": 4,
 "nbformat_minor": 2
}
