{
 "cells": [
  {
   "cell_type": "code",
   "execution_count": 6,
   "metadata": {},
   "outputs": [],
   "source": [
    "import torch\n",
    "import torch.nn as nn\n",
    "import torchvision.datasets as dset\n",
    "import torchvision.transforms as transforms\n",
    "import matplotlib.pyplot as plt\n",
    "import torch.nn.functional as F\n",
    "\n",
    "import numpy as np\n",
    "%matplotlib inline"
   ]
  },
  {
   "cell_type": "code",
   "execution_count": 7,
   "metadata": {},
   "outputs": [],
   "source": [
    "##################image_data loading##################"
   ]
  },
  {
   "cell_type": "code",
   "execution_count": 8,
   "metadata": {},
   "outputs": [],
   "source": [
    "#spatial pyramid pooling\n",
    "a=int(14)\n",
    "spp6_ksize=round(a/6+0.49)\n",
    "spp6_stride=int(a/6)\n",
    "spp3_ksize=round(a/3+0.49)\n",
    "spp3_stride=int(a/3)\n",
    "spp2_ksize=round(a/2+0.49)\n",
    "spp2_stride=int(a/2)\n",
    "spp1_ksize=round(a/1+0.49)\n",
    "spp1_stride=int(a/1)"
   ]
  },
  {
   "cell_type": "code",
   "execution_count": 11,
   "metadata": {},
   "outputs": [],
   "source": [
    "a=int(14)\n",
    "class SpatialPooling(nn.Module):\n",
    "    def __init__(self):\n",
    "        super(SpatialPooling,self).__init__()\n",
    "    \n",
    "    def forward(self,x):\n",
    "        in_len=int(len(x))\n",
    "        self.fc1=nn.Linear(in_len,1024)\n",
    "        self.fc2=nn.Linear(1024,4)\n",
    "        out=self.fc1(x)\n",
    "        out=self.fc2(x)\n",
    "        return out\n",
    "    \n",
    "    def spp_concat(self,x):\n",
    "        a=int(14)\n",
    "        spp6_ksize=round(a/6+0.49)\n",
    "        spp6_stride=int(a/6)\n",
    "        spp3_ksize=round(a/3+0.49)\n",
    "        spp3_stride=int(a/3)\n",
    "        spp2_ksize=round(a/2+0.49)\n",
    "        spp2_stride=int(a/2)\n",
    "        spp1_ksize=round(a/1+0.49)\n",
    "        spp1_stride=int(a/1)\n",
    "        self.spp6_layer=nn.MaxPool2d(kernel_size=spp6_ksize,\n",
    "                                    stride=spp6_stride,padding=0)\n",
    "        self.spp3_layer=nn.MaxPool2d(kernel_size=spp3_ksize,\n",
    "                                    stride=spp3_stride,padding=0)\n",
    "        self.spp2_layer=nn.MaxPool2d(kernel_size=spp2_ksize,\n",
    "                                    stride=spp2_stride,padding=0)\n",
    "        self.spp1_layer=nn.MaxPool2d(kernel_size=spp1_ksize,\n",
    "                                    stride=spp1_stride,padding=0)\n",
    "        out=torch.cat([out1,out2,out3,out4],dim=1)\n",
    "        out=forward(out)\n",
    "        return out\n",
    "    \n",
    "    \n",
    "        \n",
    "        "
   ]
  },
  {
   "cell_type": "code",
   "execution_count": 10,
   "metadata": {},
   "outputs": [],
   "source": [
    "sp=SpatialPooling()"
   ]
  },
  {
   "cell_type": "code",
   "execution_count": null,
   "metadata": {},
   "outputs": [],
   "source": []
  }
 ],
 "metadata": {
  "kernelspec": {
   "display_name": "Python 3",
   "language": "python",
   "name": "python3"
  },
  "language_info": {
   "codemirror_mode": {
    "name": "ipython",
    "version": 3
   },
   "file_extension": ".py",
   "mimetype": "text/x-python",
   "name": "python",
   "nbconvert_exporter": "python",
   "pygments_lexer": "ipython3",
   "version": "3.6.4"
  }
 },
 "nbformat": 4,
 "nbformat_minor": 2
}
