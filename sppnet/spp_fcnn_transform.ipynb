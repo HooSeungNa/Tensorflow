{
 "cells": [
  {
   "cell_type": "code",
   "execution_count": 1,
   "metadata": {
    "scrolled": true
   },
   "outputs": [
    {
     "name": "stderr",
     "output_type": "stream",
     "text": [
      "C:\\Users\\Robotmedia9\\Anaconda3\\lib\\site-packages\\h5py\\__init__.py:36: FutureWarning: Conversion of the second argument of issubdtype from `float` to `np.floating` is deprecated. In future, it will be treated as `np.float64 == np.dtype(float).type`.\n",
      "  from ._conv import register_converters as _register_converters\n"
     ]
    }
   ],
   "source": [
    "%matplotlib inline\n",
    "import cv2\n",
    "from matplotlib import pyplot as plt\n",
    "import numpy as np\n",
    "import glob\n",
    "from read_xml import*\n",
    "import tensorflow as tf"
   ]
  },
  {
   "cell_type": "code",
   "execution_count": 2,
   "metadata": {},
   "outputs": [],
   "source": [
    "from xml.etree.ElementTree import parse,dump,Element\n",
    "tree = parse(\"./data/ss_search_image.xml\")\n",
    "ss_region = tree.getroot()\n",
    "aaa=parse(\"./data/ground_truth_after_scale.xml\")\n",
    "gt_box=aaa.getroot()"
   ]
  },
  {
   "cell_type": "code",
   "execution_count": null,
   "metadata": {
    "scrolled": false
   },
   "outputs": [],
   "source": [
    "# dump(gt_box)\n",
    "# dump(ss_region)"
   ]
  },
  {
   "cell_type": "code",
   "execution_count": 9,
   "metadata": {},
   "outputs": [],
   "source": [
    "########## make the one xml file gt box \n",
    "\n",
    "# gt_box = Element(\"gt_box_image\")\n",
    "# for i in range(len(xml_data)):\n",
    "#     image_num=Element(\"image_\"+str(i))\n",
    "#     gt_box.append(image_num)\n",
    "    \n",
    "#     xmin = xml_data[i].findtext(\"object/bndbox/xmin\")\n",
    "#     ymin = xml_data[i].findtext(\"object/bndbox/ymin\")\n",
    "#     xmax = xml_data[i].findtext(\"object/bndbox/xmax\")\n",
    "#     ymax = xml_data[i].findtext(\"object/bndbox/ymax\")\n",
    "#     xmin=int(float(xmin))\n",
    "#     xmax=int(float(xmax))\n",
    "#     ymin=int(float(ymin))\n",
    "#     ymax=int(float(ymax))\n",
    "#     box1=[xmin,ymin,xmax,ymax]# ground truth\n",
    "#     width = xml_data[i].findtext(\"size/width\")\n",
    "#     height = xml_data[i].findtext(\"size/height\")\n",
    "#     width=int(float(width))\n",
    "#     height=int(float(height))\n",
    "#     w_scale=np.round(14/width,4)\n",
    "#     h_scale=np.round(14/height,4)\n",
    "    \n",
    "#     box2=[0,0,0,0]\n",
    "#     box2[0]=int(box1[0]*w_scale)\n",
    "#     box2[1]=int(box1[1]*h_scale)\n",
    "#     box2[2]=int(box1[2]*w_scale)\n",
    "#     box2[3]=int(box1[3]*h_scale)\n",
    "#     image_gt=Element(\"truth_box\")\n",
    "#     image_gt.text=str(box2)\n",
    "#     image_num.append(image_gt)\n",
    "# indent(gt_box)    \n",
    "# # dump(gt_box)\n",
    "# from xml.etree.ElementTree import ElementTree\n",
    "# ElementTree(gt_box).write(\"ground_truth_after_scale.xml\")"
   ]
  },
  {
   "cell_type": "code",
   "execution_count": null,
   "metadata": {
    "scrolled": false
   },
   "outputs": [],
   "source": [
    "image_ss_region=[]\n",
    "image_gt_box=[]\n",
    "#seletive search region string to array transform\n",
    "for j in range(0,17125):\n",
    "    \n",
    "    positive_data=[]\n",
    "    for i in range(1000):\n",
    "        tmp=ss_region.findtext(\"t_image%d/t_positive/t_%d\"%(j,i))\n",
    "        if tmp !=None:\n",
    "            positive_data.append(tmp)\n",
    "        else:\n",
    "            break\n",
    "    pos=[]\n",
    "    neg=[]\n",
    "    for i in positive_data:\n",
    "        a=i\n",
    "        a = a.replace(\"[\", \"\")\n",
    "        a = a.replace(\"]\", \"\")\n",
    "        a = a.replace(\" \", \"\")\n",
    "        b=[]\n",
    "        words = a.split(\",\")\n",
    "        for i in words:\n",
    "            b.append(int(i))\n",
    "        pos.append(b)\n",
    "    image_ss_region.append(pos)\n",
    "\n",
    "    "
   ]
  },
  {
   "cell_type": "code",
   "execution_count": 31,
   "metadata": {},
   "outputs": [],
   "source": [
    "#ground truth region string to array transform\n",
    "for j in range(0,17125):\n",
    "    tmp=gt_box.findtext(\"image_%d/truth_box\"%j)\n",
    "    tmp = tmp.replace(\"[\", \"\")\n",
    "    tmp = tmp.replace(\"]\", \"\")\n",
    "    tmp = tmp.replace(\" \", \"\")\n",
    "    b=[]\n",
    "    words=tmp.split(\",\")\n",
    "    for i in words:\n",
    "        b.append(int(i))\n",
    "    image_gt_box.append(b)"
   ]
  },
  {
   "cell_type": "code",
   "execution_count": 115,
   "metadata": {
    "scrolled": true
   },
   "outputs": [
    {
     "name": "stdout",
     "output_type": "stream",
     "text": [
      "Selective search regions :  [[4, 0, 9, 10], [0, 8, 3, 4], [4, 0, 8, 7], [4, 0, 8, 8], [4, 0, 9, 8], [4, 0, 9, 8], [2, 0, 9, 9]]\n",
      "Ground truth box :  [5, 2, 10, 9]\n"
     ]
    }
   ],
   "source": [
    "#iamge ss_region and image ground truth box \n",
    "print(\"Selective search regions : \",image_ss_region[0])\n",
    "print(\"Ground truth box : \",image_gt_box[0])\n"
   ]
  },
  {
   "cell_type": "code",
   "execution_count": 85,
   "metadata": {
    "scrolled": true
   },
   "outputs": [
    {
     "name": "stdout",
     "output_type": "stream",
     "text": [
      "total file directory :  34\n"
     ]
    }
   ],
   "source": [
    "total_part=glob.glob(\"D:/sppnet_feature2/*\")\n",
    "print(\"total file directory : \",len(total_part))"
   ]
  },
  {
   "cell_type": "code",
   "execution_count": 100,
   "metadata": {},
   "outputs": [],
   "source": []
  },
  {
   "cell_type": "code",
   "execution_count": 108,
   "metadata": {},
   "outputs": [
    {
     "name": "stdout",
     "output_type": "stream",
     "text": [
      "1 128000 500 0\n",
      "128000\n"
     ]
    }
   ],
   "source": [
    "# img_part=1\n",
    "cnt=0\n",
    "image_data=[]\n",
    "# for img_part in range(1,len(total_part)+1):#file directory\n",
    "for img_part in range(1,2):#file directory\n",
    "    img_cnt=glob.glob(\"D:/sppnet_feature2/%d/*.jpg\"%img_part)\n",
    "    img_num=int(len(img_cnt)/256)\n",
    "    print(img_part,len(img_cnt),img_num,cnt)\n",
    "    for i in range(cnt,cnt+img_num):# image number\n",
    "#         print(i)\n",
    "        for j in range(256):#feature number\n",
    "            st=\"D:/sppnet_feature2/%d/image%d_feature%d.jpg\"%(img_part,i,j)\n",
    "#             print(st)\n",
    "            n=cv2.imread(st,cv2.IMREAD_COLOR)\n",
    "            n=cv2.cvtColor(n, cv2.COLOR_BGR2RGB)# matplotlib = RGB channel , opencv = BGR channels\n",
    "            image_data.append(n)\n",
    "    cnt=cnt+img_num\n",
    "print(len(image_data))"
   ]
  },
  {
   "cell_type": "code",
   "execution_count": 109,
   "metadata": {},
   "outputs": [
    {
     "name": "stdout",
     "output_type": "stream",
     "text": [
      "128000\n"
     ]
    }
   ],
   "source": [
    "print(len(image_data))\n"
   ]
  },
  {
   "cell_type": "code",
   "execution_count": 117,
   "metadata": {},
   "outputs": [
    {
     "name": "stdout",
     "output_type": "stream",
     "text": [
      "0\n",
      "image :  0\n",
      "Selective search regions :  [[4, 0, 9, 10], [0, 8, 3, 4], [4, 0, 8, 7], [4, 0, 8, 8], [4, 0, 9, 8], [4, 0, 9, 8], [2, 0, 9, 9]]\n",
      "Ground truth box :  [5, 2, 10, 9]\n"
     ]
    },
    {
     "data": {
      "image/png": "[encoded data removed]",
      "text/plain": [
       "<matplotlib.figure.Figure at 0x17f6c3d56a0>"
      ]
     },
     "metadata": {},
     "output_type": "display_data"
    }
   ],
   "source": [
    "pic=0\n",
    "ft=0\n",
    "\n",
    "i=255*(pic)+ft\n",
    "print(i)\n",
    "plt.imshow(image_data[i])\n",
    "#iamge ss_region and image ground truth box \n",
    "print(\"image : \",pic)\n",
    "print(\"Selective search regions : \",image_ss_region[pic])\n",
    "print(\"Ground truth box : \",image_gt_box[pic])"
   ]
  },
  {
   "cell_type": "code",
   "execution_count": 137,
   "metadata": {},
   "outputs": [
    {
     "name": "stdout",
     "output_type": "stream",
     "text": [
      "[[4, 0, 9, 10], [0, 8, 3, 4], [4, 0, 8, 7], [4, 0, 8, 8], [4, 0, 9, 8], [4, 0, 9, 8], [2, 0, 9, 9]]\n"
     ]
    }
   ],
   "source": [
    "print(image_ss_region[pic])"
   ]
  },
  {
   "cell_type": "code",
   "execution_count": 167,
   "metadata": {},
   "outputs": [],
   "source": [
    "#bounding box regression\n",
    "def bounding_box_regression(ss_data,gt_data):\n",
    "#     print(ss_data)\n",
    "#     print(gt_data)\n",
    "    src_w = abs(ss_data[2] - ss_data[0])\n",
    "    src_h = abs(ss_data[3] - ss_data[1])\n",
    "    src_ctr_x = ss_data[0] + 0.5*src_w;\n",
    "    src_ctr_y = ss_data[1] + 0.5*src_h;\n",
    "\n",
    "\n",
    "    gt_w = gt_data[2] - gt_data[0]\n",
    "    gt_h = gt_data[3] - gt_data[1]\n",
    "    gt_ctr_x = gt_data[0] + 0.5*gt_w\n",
    "    gt_ctr_y = gt_data[1] + 0.5*gt_h\n",
    "\n",
    "    dst_ctr_x = (gt_ctr_x - src_ctr_x) * 1/src_w\n",
    "    dst_ctr_y = (gt_ctr_y - src_ctr_y) * 1/src_h\n",
    "    dst_scl_w = np.log(gt_w / src_w)\n",
    "    dst_scl_h = np.log(gt_h / src_h)\n",
    "    target = [dst_ctr_x, dst_ctr_y, dst_scl_w, dst_scl_h]\n",
    "#     print(\"image_ss_region center x : \",src_ctr_x,\"center y : \",src_ctr_y,\"width : \",src_w,\"height : \",src_h)\n",
    "#     print(\"image_gt_box center x : \",gt_ctr_x,\"center y : \",gt_ctr_y,\"width : \",gt_w,\"height : \",gt_h)\n",
    "\n",
    "    pred_ctr_x = (target[0] * src_w) + src_ctr_x;\n",
    "    pred_ctr_y = (target[1] * src_h) + src_ctr_y;\n",
    "    pred_w = np.exp(target[2]) * src_w;\n",
    "    pred_h = np.exp(target[3]) * src_h;\n",
    "    pred_box = [pred_ctr_x - 0.5*pred_w, pred_ctr_y - 0.5*pred_h, pred_ctr_x + 0.5*pred_w, pred_ctr_y + 0.5*pred_h]\n",
    "#     print(\"pred_box center x : \",pred_ctr_x,\"center y : \",pred_ctr_y,\"width : \",pred_w,\"height : \",pred_h)\n",
    "    return pred_box"
   ]
  },
  {
   "cell_type": "code",
   "execution_count": 168,
   "metadata": {},
   "outputs": [
    {
     "name": "stdout",
     "output_type": "stream",
     "text": [
      "pred :  [5.0, 2.0, 10.0, 9.0]\n",
      "pred :  [5.0, 2.0, 10.0, 9.0]\n",
      "pred :  [5.0, 2.0, 10.0, 9.0]\n",
      "pred :  [5.0, 2.0, 10.0, 9.0]\n",
      "pred :  [5.0, 2.0, 10.0, 9.0]\n",
      "pred :  [5.0, 2.0, 10.0, 9.0]\n",
      "pred :  [5.0, 2.0, 10.0, 9.0]\n"
     ]
    }
   ],
   "source": [
    "pic=0\n",
    "for i in range(len(image_ss_region[pic])):\n",
    "    pred=bounding_box_regression(image_ss_region[pic][i],image_gt_box[pic])\n",
    "    print(\"pred : \",pred)"
   ]
  },
  {
   "cell_type": "code",
   "execution_count": 172,
   "metadata": {
    "scrolled": true
   },
   "outputs": [
    {
     "name": "stdout",
     "output_type": "stream",
     "text": [
      "(14, 14, 3)\n"
     ]
    },
    {
     "data": {
      "text/plain": [
       "<matplotlib.image.AxesImage at 0x17f7b315390>"
      ]
     },
     "execution_count": 172,
     "metadata": {},
     "output_type": "execute_result"
    },
    {
     "data": {
      "image/png": "[encoded data removed]",
      "text/plain": [
       "<matplotlib.figure.Figure at 0x17f74360198>"
      ]
     },
     "metadata": {},
     "output_type": "display_data"
    }
   ],
   "source": [
    "print(np.shape(image_data[0]))\n",
    "plt.imshow(image_data[0])"
   ]
  },
  {
   "cell_type": "code",
   "execution_count": 183,
   "metadata": {
    "scrolled": true
   },
   "outputs": [
    {
     "name": "stdout",
     "output_type": "stream",
     "text": [
      "[4, 0, 9, 10]\n"
     ]
    },
    {
     "data": {
      "image/png": "[encoded data removed]",
      "text/plain": [
       "<matplotlib.figure.Figure at 0x17f03e3de48>"
      ]
     },
     "metadata": {},
     "output_type": "display_data"
    }
   ],
   "source": [
    "pic=0\n",
    "i=0\n",
    "image=image_data[pic]\n",
    "ss=image_ss_region[pic][i]\n",
    "print(ss)\n",
    "plt.imshow(image)\n",
    "w = abs(ss[2] - ss[0])\n",
    "h = abs(ss[3] - ss[1])\n",
    "subim_input = image[ss[0] : ss[0]+w,ss[1] : ss[1]+h]"
   ]
  },
  {
   "cell_type": "code",
   "execution_count": 184,
   "metadata": {},
   "outputs": [
    {
     "name": "stdout",
     "output_type": "stream",
     "text": [
      "(5, 10, 3)\n"
     ]
    },
    {
     "data": {
      "text/plain": [
       "<matplotlib.image.AxesImage at 0x17f020ad390>"
      ]
     },
     "execution_count": 184,
     "metadata": {},
     "output_type": "execute_result"
    },
    {
     "data": {
      "image/png": "[encoded data removed]",
      "text/plain": [
       "<matplotlib.figure.Figure at 0x17f040bed68>"
      ]
     },
     "metadata": {},
     "output_type": "display_data"
    }
   ],
   "source": [
    "print(np.shape(subim_input))\n",
    "plt.imshow(subim_input)"
   ]
  },
  {
   "cell_type": "code",
   "execution_count": 190,
   "metadata": {},
   "outputs": [],
   "source": [
    "X = tf.placeholder(tf.float32, [None, None,None,3]) # image data \n",
    "a=int(14)\n",
    "#SPP 6*6\n",
    "spp6_ksize=round(a/6+0.49)\n",
    "spp6_stride=int(a/6)\n",
    "Spp6 = tf.nn.max_pool(X,ksize=[1,spp6_ksize,spp6_ksize,1],strides=[1,spp6_stride,spp6_stride,1],padding=\"SAME\")\n",
    "Spp6_flatten = tf.reshape(Spp6,[-1,256*7*7])\n",
    "\n",
    "#SPP 3*3\n",
    "spp3_ksize=round(a/3+0.49)\n",
    "spp3_stride=int(a/3)\n",
    "Spp3 = tf.nn.max_pool(X,ksize=[1,spp3_ksize,spp3_ksize,1],strides=[1,spp3_stride,spp3_stride,1],padding=\"SAME\")\n",
    "Spp3_flatten = tf.reshape(Spp3,[-1,256*4*4])\n",
    "\n",
    "#SPP 2*2\n",
    "spp2_ksize=round(a/2+0.49)\n",
    "spp2_stride=int(a/2)\n",
    "Spp2 = tf.nn.max_pool(X,ksize=[1,spp2_ksize,spp2_ksize,1],strides=[1,spp2_stride,spp2_stride,1],padding=\"SAME\")\n",
    "Spp2_flatten = tf.reshape(Spp2,[-1,256*2*2])\n",
    "\n",
    "#SPP 1*1\n",
    "spp1_ksize=round(a/1+0.49)\n",
    "spp1_stride=int(a/1)\n",
    "Spp1 = tf.nn.max_pool(X,ksize=[1,spp1_ksize,spp1_ksize,1],strides=[1,spp1_stride,spp1_stride,1],padding=\"SAME\")\n",
    "Spp1_flatten = tf.reshape(Spp1,[-1,256*1*1])\n",
    "\n",
    "spp_concat=tf.concat([Spp1_flatten,Spp2_flatten,Spp3_flatten,Spp6_flatten],1)\n",
    "\n",
    "\n",
    "\n",
    "\n",
    "\n",
    "#size : 2*2*256\n",
    "#Fully connected network\n",
    "keep_prob=tf.placeholder(tf.float32)  \n",
    "Fc6_b=tf.Variable(tf.random_normal([4096]))\n",
    "Fc7_b=tf.Variable(tf.random_normal([20]))\n",
    "Fc6_w= tf.get_variable(\"Fc6_w\", shape=[17920, 4096],\n",
    "     initializer=tf.contrib.layers.xavier_initializer())\n",
    "Fc7_w= tf.get_variable(\"Fc7_w\", shape=[4096, 20],\n",
    "     initializer=tf.contrib.layers.xavier_initializer())\n",
    "FL1 = tf.nn.relu(tf.matmul(spp_concat, Fc6_w) + Fc6_b)\n",
    "FL1=tf.nn.dropout(FL1,keep_prob=keep_prob)\n",
    "\n",
    "logits = tf.matmul(FL1, Fc7_w) + Fc7_b\n"
   ]
  },
  {
   "cell_type": "code",
   "execution_count": 191,
   "metadata": {},
   "outputs": [
    {
     "name": "stdout",
     "output_type": "stream",
     "text": [
      "3 5 7 14\n"
     ]
    }
   ],
   "source": [
    "print(spp6_ksize,spp3_ksize,spp2_ksize,spp1_ksize)"
   ]
  },
  {
   "cell_type": "code",
   "execution_count": 196,
   "metadata": {},
   "outputs": [
    {
     "ename": "InvalidArgumentError",
     "evalue": "You must feed a value for placeholder tensor 'Placeholder_9' with dtype float and shape [?,?,?,3]\n\t [[Node: Placeholder_9 = Placeholder[dtype=DT_FLOAT, shape=[?,?,?,3], _device=\"/job:localhost/replica:0/task:0/device:GPU:0\"]()]]\n\nCaused by op 'Placeholder_9', defined at:\n  File \"C:\\Users\\Robotmedia9\\Anaconda3\\lib\\runpy.py\", line 193, in _run_module_as_main\n    \"__main__\", mod_spec)\n  File \"C:\\Users\\Robotmedia9\\Anaconda3\\lib\\runpy.py\", line 85, in _run_code\n    exec(code, run_globals)\n  File \"C:\\Users\\Robotmedia9\\Anaconda3\\lib\\site-packages\\ipykernel_launcher.py\", line 16, in <module>\n    app.launch_new_instance()\n  File \"C:\\Users\\Robotmedia9\\Anaconda3\\lib\\site-packages\\traitlets\\config\\application.py\", line 658, in launch_instance\n    app.start()\n  File \"C:\\Users\\Robotmedia9\\Anaconda3\\lib\\site-packages\\ipykernel\\kernelapp.py\", line 478, in start\n    self.io_loop.start()\n  File \"C:\\Users\\Robotmedia9\\Anaconda3\\lib\\site-packages\\zmq\\eventloop\\ioloop.py\", line 177, in start\n    super(ZMQIOLoop, self).start()\n  File \"C:\\Users\\Robotmedia9\\Anaconda3\\lib\\site-packages\\tornado\\ioloop.py\", line 888, in start\n    handler_func(fd_obj, events)\n  File \"C:\\Users\\Robotmedia9\\Anaconda3\\lib\\site-packages\\tornado\\stack_context.py\", line 277, in null_wrapper\n    return fn(*args, **kwargs)\n  File \"C:\\Users\\Robotmedia9\\Anaconda3\\lib\\site-packages\\zmq\\eventloop\\zmqstream.py\", line 440, in _handle_events\n    self._handle_recv()\n  File \"C:\\Users\\Robotmedia9\\Anaconda3\\lib\\site-packages\\zmq\\eventloop\\zmqstream.py\", line 472, in _handle_recv\n    self._run_callback(callback, msg)\n  File \"C:\\Users\\Robotmedia9\\Anaconda3\\lib\\site-packages\\zmq\\eventloop\\zmqstream.py\", line 414, in _run_callback\n    callback(*args, **kwargs)\n  File \"C:\\Users\\Robotmedia9\\Anaconda3\\lib\\site-packages\\tornado\\stack_context.py\", line 277, in null_wrapper\n    return fn(*args, **kwargs)\n  File \"C:\\Users\\Robotmedia9\\Anaconda3\\lib\\site-packages\\ipykernel\\kernelbase.py\", line 283, in dispatcher\n    return self.dispatch_shell(stream, msg)\n  File \"C:\\Users\\Robotmedia9\\Anaconda3\\lib\\site-packages\\ipykernel\\kernelbase.py\", line 233, in dispatch_shell\n    handler(stream, idents, msg)\n  File \"C:\\Users\\Robotmedia9\\Anaconda3\\lib\\site-packages\\ipykernel\\kernelbase.py\", line 399, in execute_request\n    user_expressions, allow_stdin)\n  File \"C:\\Users\\Robotmedia9\\Anaconda3\\lib\\site-packages\\ipykernel\\ipkernel.py\", line 208, in do_execute\n    res = shell.run_cell(code, store_history=store_history, silent=silent)\n  File \"C:\\Users\\Robotmedia9\\Anaconda3\\lib\\site-packages\\ipykernel\\zmqshell.py\", line 537, in run_cell\n    return super(ZMQInteractiveShell, self).run_cell(*args, **kwargs)\n  File \"C:\\Users\\Robotmedia9\\Anaconda3\\lib\\site-packages\\IPython\\core\\interactiveshell.py\", line 2728, in run_cell\n    interactivity=interactivity, compiler=compiler, result=result)\n  File \"C:\\Users\\Robotmedia9\\Anaconda3\\lib\\site-packages\\IPython\\core\\interactiveshell.py\", line 2850, in run_ast_nodes\n    if self.run_code(code, result):\n  File \"C:\\Users\\Robotmedia9\\Anaconda3\\lib\\site-packages\\IPython\\core\\interactiveshell.py\", line 2910, in run_code\n    exec(code_obj, self.user_global_ns, self.user_ns)\n  File \"<ipython-input-190-f18d678b020f>\", line 1, in <module>\n    X = tf.placeholder(tf.float32, [None, None,None,3]) # image data\n  File \"C:\\Users\\Robotmedia9\\Anaconda3\\lib\\site-packages\\tensorflow\\python\\ops\\array_ops.py\", line 1680, in placeholder\n    return gen_array_ops._placeholder(dtype=dtype, shape=shape, name=name)\n  File \"C:\\Users\\Robotmedia9\\Anaconda3\\lib\\site-packages\\tensorflow\\python\\ops\\gen_array_ops.py\", line 4105, in _placeholder\n    \"Placeholder\", dtype=dtype, shape=shape, name=name)\n  File \"C:\\Users\\Robotmedia9\\Anaconda3\\lib\\site-packages\\tensorflow\\python\\framework\\op_def_library.py\", line 787, in _apply_op_helper\n    op_def=op_def)\n  File \"C:\\Users\\Robotmedia9\\Anaconda3\\lib\\site-packages\\tensorflow\\python\\framework\\ops.py\", line 3160, in create_op\n    op_def=op_def)\n  File \"C:\\Users\\Robotmedia9\\Anaconda3\\lib\\site-packages\\tensorflow\\python\\framework\\ops.py\", line 1625, in __init__\n    self._traceback = self._graph._extract_stack()  # pylint: disable=protected-access\n\nInvalidArgumentError (see above for traceback): You must feed a value for placeholder tensor 'Placeholder_9' with dtype float and shape [?,?,?,3]\n\t [[Node: Placeholder_9 = Placeholder[dtype=DT_FLOAT, shape=[?,?,?,3], _device=\"/job:localhost/replica:0/task:0/device:GPU:0\"]()]]\n",
     "output_type": "error",
     "traceback": [
      "\u001b[1;31m---------------------------------------------------------------------------\u001b[0m",
      "\u001b[1;31mInvalidArgumentError\u001b[0m                      Traceback (most recent call last)",
      "\u001b[1;32m~\\Anaconda3\\lib\\site-packages\\tensorflow\\python\\client\\session.py\u001b[0m in \u001b[0;36m_do_call\u001b[1;34m(self, fn, *args)\u001b[0m\n\u001b[0;32m   1349\u001b[0m     \u001b[1;32mtry\u001b[0m\u001b[1;33m:\u001b[0m\u001b[1;33m\u001b[0m\u001b[0m\n\u001b[1;32m-> 1350\u001b[1;33m       \u001b[1;32mreturn\u001b[0m \u001b[0mfn\u001b[0m\u001b[1;33m(\u001b[0m\u001b[1;33m*\u001b[0m\u001b[0margs\u001b[0m\u001b[1;33m)\u001b[0m\u001b[1;33m\u001b[0m\u001b[0m\n\u001b[0m\u001b[0;32m   1351\u001b[0m     \u001b[1;32mexcept\u001b[0m \u001b[0merrors\u001b[0m\u001b[1;33m.\u001b[0m\u001b[0mOpError\u001b[0m \u001b[1;32mas\u001b[0m \u001b[0me\u001b[0m\u001b[1;33m:\u001b[0m\u001b[1;33m\u001b[0m\u001b[0m\n",
      "\u001b[1;32m~\\Anaconda3\\lib\\site-packages\\tensorflow\\python\\client\\session.py\u001b[0m in \u001b[0;36m_run_fn\u001b[1;34m(session, feed_dict, fetch_list, target_list, options, run_metadata)\u001b[0m\n\u001b[0;32m   1328\u001b[0m                                    \u001b[0mfeed_dict\u001b[0m\u001b[1;33m,\u001b[0m \u001b[0mfetch_list\u001b[0m\u001b[1;33m,\u001b[0m \u001b[0mtarget_list\u001b[0m\u001b[1;33m,\u001b[0m\u001b[1;33m\u001b[0m\u001b[0m\n\u001b[1;32m-> 1329\u001b[1;33m                                    status, run_metadata)\n\u001b[0m\u001b[0;32m   1330\u001b[0m \u001b[1;33m\u001b[0m\u001b[0m\n",
      "\u001b[1;32m~\\Anaconda3\\lib\\site-packages\\tensorflow\\python\\framework\\errors_impl.py\u001b[0m in \u001b[0;36m__exit__\u001b[1;34m(self, type_arg, value_arg, traceback_arg)\u001b[0m\n\u001b[0;32m    472\u001b[0m             \u001b[0mcompat\u001b[0m\u001b[1;33m.\u001b[0m\u001b[0mas_text\u001b[0m\u001b[1;33m(\u001b[0m\u001b[0mc_api\u001b[0m\u001b[1;33m.\u001b[0m\u001b[0mTF_Message\u001b[0m\u001b[1;33m(\u001b[0m\u001b[0mself\u001b[0m\u001b[1;33m.\u001b[0m\u001b[0mstatus\u001b[0m\u001b[1;33m.\u001b[0m\u001b[0mstatus\u001b[0m\u001b[1;33m)\u001b[0m\u001b[1;33m)\u001b[0m\u001b[1;33m,\u001b[0m\u001b[1;33m\u001b[0m\u001b[0m\n\u001b[1;32m--> 473\u001b[1;33m             c_api.TF_GetCode(self.status.status))\n\u001b[0m\u001b[0;32m    474\u001b[0m     \u001b[1;31m# Delete the underlying status object from memory otherwise it stays alive\u001b[0m\u001b[1;33m\u001b[0m\u001b[1;33m\u001b[0m\u001b[0m\n",
      "\u001b[1;31mInvalidArgumentError\u001b[0m: You must feed a value for placeholder tensor 'Placeholder_9' with dtype float and shape [?,?,?,3]\n\t [[Node: Placeholder_9 = Placeholder[dtype=DT_FLOAT, shape=[?,?,?,3], _device=\"/job:localhost/replica:0/task:0/device:GPU:0\"]()]]",
      "\nDuring handling of the above exception, another exception occurred:\n",
      "\u001b[1;31mInvalidArgumentError\u001b[0m                      Traceback (most recent call last)",
      "\u001b[1;32m<ipython-input-196-78b736751d11>\u001b[0m in \u001b[0;36m<module>\u001b[1;34m()\u001b[0m\n\u001b[0;32m      1\u001b[0m \u001b[0msess\u001b[0m\u001b[1;33m=\u001b[0m\u001b[0mtf\u001b[0m\u001b[1;33m.\u001b[0m\u001b[0mSession\u001b[0m\u001b[1;33m(\u001b[0m\u001b[1;33m)\u001b[0m\u001b[1;33m\u001b[0m\u001b[0m\n\u001b[0;32m      2\u001b[0m \u001b[0mfeed_dict\u001b[0m\u001b[1;33m=\u001b[0m\u001b[1;33m{\u001b[0m\u001b[0mX\u001b[0m\u001b[1;33m:\u001b[0m\u001b[0msubim_input\u001b[0m\u001b[1;33m}\u001b[0m\u001b[1;33m\u001b[0m\u001b[0m\n\u001b[1;32m----> 3\u001b[1;33m \u001b[0mprint\u001b[0m\u001b[1;33m(\u001b[0m\u001b[0msess\u001b[0m\u001b[1;33m.\u001b[0m\u001b[0mrun\u001b[0m\u001b[1;33m(\u001b[0m\u001b[0mSpp6_flatten\u001b[0m\u001b[1;33m)\u001b[0m\u001b[1;33m)\u001b[0m\u001b[1;33m\u001b[0m\u001b[0m\n\u001b[0m",
      "\u001b[1;32m~\\Anaconda3\\lib\\site-packages\\tensorflow\\python\\client\\session.py\u001b[0m in \u001b[0;36mrun\u001b[1;34m(self, fetches, feed_dict, options, run_metadata)\u001b[0m\n\u001b[0;32m    893\u001b[0m     \u001b[1;32mtry\u001b[0m\u001b[1;33m:\u001b[0m\u001b[1;33m\u001b[0m\u001b[0m\n\u001b[0;32m    894\u001b[0m       result = self._run(None, fetches, feed_dict, options_ptr,\n\u001b[1;32m--> 895\u001b[1;33m                          run_metadata_ptr)\n\u001b[0m\u001b[0;32m    896\u001b[0m       \u001b[1;32mif\u001b[0m \u001b[0mrun_metadata\u001b[0m\u001b[1;33m:\u001b[0m\u001b[1;33m\u001b[0m\u001b[0m\n\u001b[0;32m    897\u001b[0m         \u001b[0mproto_data\u001b[0m \u001b[1;33m=\u001b[0m \u001b[0mtf_session\u001b[0m\u001b[1;33m.\u001b[0m\u001b[0mTF_GetBuffer\u001b[0m\u001b[1;33m(\u001b[0m\u001b[0mrun_metadata_ptr\u001b[0m\u001b[1;33m)\u001b[0m\u001b[1;33m\u001b[0m\u001b[0m\n",
      "\u001b[1;32m~\\Anaconda3\\lib\\site-packages\\tensorflow\\python\\client\\session.py\u001b[0m in \u001b[0;36m_run\u001b[1;34m(self, handle, fetches, feed_dict, options, run_metadata)\u001b[0m\n\u001b[0;32m   1126\u001b[0m     \u001b[1;32mif\u001b[0m \u001b[0mfinal_fetches\u001b[0m \u001b[1;32mor\u001b[0m \u001b[0mfinal_targets\u001b[0m \u001b[1;32mor\u001b[0m \u001b[1;33m(\u001b[0m\u001b[0mhandle\u001b[0m \u001b[1;32mand\u001b[0m \u001b[0mfeed_dict_tensor\u001b[0m\u001b[1;33m)\u001b[0m\u001b[1;33m:\u001b[0m\u001b[1;33m\u001b[0m\u001b[0m\n\u001b[0;32m   1127\u001b[0m       results = self._do_run(handle, final_targets, final_fetches,\n\u001b[1;32m-> 1128\u001b[1;33m                              feed_dict_tensor, options, run_metadata)\n\u001b[0m\u001b[0;32m   1129\u001b[0m     \u001b[1;32melse\u001b[0m\u001b[1;33m:\u001b[0m\u001b[1;33m\u001b[0m\u001b[0m\n\u001b[0;32m   1130\u001b[0m       \u001b[0mresults\u001b[0m \u001b[1;33m=\u001b[0m \u001b[1;33m[\u001b[0m\u001b[1;33m]\u001b[0m\u001b[1;33m\u001b[0m\u001b[0m\n",
      "\u001b[1;32m~\\Anaconda3\\lib\\site-packages\\tensorflow\\python\\client\\session.py\u001b[0m in \u001b[0;36m_do_run\u001b[1;34m(self, handle, target_list, fetch_list, feed_dict, options, run_metadata)\u001b[0m\n\u001b[0;32m   1342\u001b[0m     \u001b[1;32mif\u001b[0m \u001b[0mhandle\u001b[0m \u001b[1;32mis\u001b[0m \u001b[1;32mNone\u001b[0m\u001b[1;33m:\u001b[0m\u001b[1;33m\u001b[0m\u001b[0m\n\u001b[0;32m   1343\u001b[0m       return self._do_call(_run_fn, self._session, feeds, fetches, targets,\n\u001b[1;32m-> 1344\u001b[1;33m                            options, run_metadata)\n\u001b[0m\u001b[0;32m   1345\u001b[0m     \u001b[1;32melse\u001b[0m\u001b[1;33m:\u001b[0m\u001b[1;33m\u001b[0m\u001b[0m\n\u001b[0;32m   1346\u001b[0m       \u001b[1;32mreturn\u001b[0m \u001b[0mself\u001b[0m\u001b[1;33m.\u001b[0m\u001b[0m_do_call\u001b[0m\u001b[1;33m(\u001b[0m\u001b[0m_prun_fn\u001b[0m\u001b[1;33m,\u001b[0m \u001b[0mself\u001b[0m\u001b[1;33m.\u001b[0m\u001b[0m_session\u001b[0m\u001b[1;33m,\u001b[0m \u001b[0mhandle\u001b[0m\u001b[1;33m,\u001b[0m \u001b[0mfeeds\u001b[0m\u001b[1;33m,\u001b[0m \u001b[0mfetches\u001b[0m\u001b[1;33m)\u001b[0m\u001b[1;33m\u001b[0m\u001b[0m\n",
      "\u001b[1;32m~\\Anaconda3\\lib\\site-packages\\tensorflow\\python\\client\\session.py\u001b[0m in \u001b[0;36m_do_call\u001b[1;34m(self, fn, *args)\u001b[0m\n\u001b[0;32m   1361\u001b[0m         \u001b[1;32mexcept\u001b[0m \u001b[0mKeyError\u001b[0m\u001b[1;33m:\u001b[0m\u001b[1;33m\u001b[0m\u001b[0m\n\u001b[0;32m   1362\u001b[0m           \u001b[1;32mpass\u001b[0m\u001b[1;33m\u001b[0m\u001b[0m\n\u001b[1;32m-> 1363\u001b[1;33m       \u001b[1;32mraise\u001b[0m \u001b[0mtype\u001b[0m\u001b[1;33m(\u001b[0m\u001b[0me\u001b[0m\u001b[1;33m)\u001b[0m\u001b[1;33m(\u001b[0m\u001b[0mnode_def\u001b[0m\u001b[1;33m,\u001b[0m \u001b[0mop\u001b[0m\u001b[1;33m,\u001b[0m \u001b[0mmessage\u001b[0m\u001b[1;33m)\u001b[0m\u001b[1;33m\u001b[0m\u001b[0m\n\u001b[0m\u001b[0;32m   1364\u001b[0m \u001b[1;33m\u001b[0m\u001b[0m\n\u001b[0;32m   1365\u001b[0m   \u001b[1;32mdef\u001b[0m \u001b[0m_extend_graph\u001b[0m\u001b[1;33m(\u001b[0m\u001b[0mself\u001b[0m\u001b[1;33m)\u001b[0m\u001b[1;33m:\u001b[0m\u001b[1;33m\u001b[0m\u001b[0m\n",
      "\u001b[1;31mInvalidArgumentError\u001b[0m: You must feed a value for placeholder tensor 'Placeholder_9' with dtype float and shape [?,?,?,3]\n\t [[Node: Placeholder_9 = Placeholder[dtype=DT_FLOAT, shape=[?,?,?,3], _device=\"/job:localhost/replica:0/task:0/device:GPU:0\"]()]]\n\nCaused by op 'Placeholder_9', defined at:\n  File \"C:\\Users\\Robotmedia9\\Anaconda3\\lib\\runpy.py\", line 193, in _run_module_as_main\n    \"__main__\", mod_spec)\n  File \"C:\\Users\\Robotmedia9\\Anaconda3\\lib\\runpy.py\", line 85, in _run_code\n    exec(code, run_globals)\n  File \"C:\\Users\\Robotmedia9\\Anaconda3\\lib\\site-packages\\ipykernel_launcher.py\", line 16, in <module>\n    app.launch_new_instance()\n  File \"C:\\Users\\Robotmedia9\\Anaconda3\\lib\\site-packages\\traitlets\\config\\application.py\", line 658, in launch_instance\n    app.start()\n  File \"C:\\Users\\Robotmedia9\\Anaconda3\\lib\\site-packages\\ipykernel\\kernelapp.py\", line 478, in start\n    self.io_loop.start()\n  File \"C:\\Users\\Robotmedia9\\Anaconda3\\lib\\site-packages\\zmq\\eventloop\\ioloop.py\", line 177, in start\n    super(ZMQIOLoop, self).start()\n  File \"C:\\Users\\Robotmedia9\\Anaconda3\\lib\\site-packages\\tornado\\ioloop.py\", line 888, in start\n    handler_func(fd_obj, events)\n  File \"C:\\Users\\Robotmedia9\\Anaconda3\\lib\\site-packages\\tornado\\stack_context.py\", line 277, in null_wrapper\n    return fn(*args, **kwargs)\n  File \"C:\\Users\\Robotmedia9\\Anaconda3\\lib\\site-packages\\zmq\\eventloop\\zmqstream.py\", line 440, in _handle_events\n    self._handle_recv()\n  File \"C:\\Users\\Robotmedia9\\Anaconda3\\lib\\site-packages\\zmq\\eventloop\\zmqstream.py\", line 472, in _handle_recv\n    self._run_callback(callback, msg)\n  File \"C:\\Users\\Robotmedia9\\Anaconda3\\lib\\site-packages\\zmq\\eventloop\\zmqstream.py\", line 414, in _run_callback\n    callback(*args, **kwargs)\n  File \"C:\\Users\\Robotmedia9\\Anaconda3\\lib\\site-packages\\tornado\\stack_context.py\", line 277, in null_wrapper\n    return fn(*args, **kwargs)\n  File \"C:\\Users\\Robotmedia9\\Anaconda3\\lib\\site-packages\\ipykernel\\kernelbase.py\", line 283, in dispatcher\n    return self.dispatch_shell(stream, msg)\n  File \"C:\\Users\\Robotmedia9\\Anaconda3\\lib\\site-packages\\ipykernel\\kernelbase.py\", line 233, in dispatch_shell\n    handler(stream, idents, msg)\n  File \"C:\\Users\\Robotmedia9\\Anaconda3\\lib\\site-packages\\ipykernel\\kernelbase.py\", line 399, in execute_request\n    user_expressions, allow_stdin)\n  File \"C:\\Users\\Robotmedia9\\Anaconda3\\lib\\site-packages\\ipykernel\\ipkernel.py\", line 208, in do_execute\n    res = shell.run_cell(code, store_history=store_history, silent=silent)\n  File \"C:\\Users\\Robotmedia9\\Anaconda3\\lib\\site-packages\\ipykernel\\zmqshell.py\", line 537, in run_cell\n    return super(ZMQInteractiveShell, self).run_cell(*args, **kwargs)\n  File \"C:\\Users\\Robotmedia9\\Anaconda3\\lib\\site-packages\\IPython\\core\\interactiveshell.py\", line 2728, in run_cell\n    interactivity=interactivity, compiler=compiler, result=result)\n  File \"C:\\Users\\Robotmedia9\\Anaconda3\\lib\\site-packages\\IPython\\core\\interactiveshell.py\", line 2850, in run_ast_nodes\n    if self.run_code(code, result):\n  File \"C:\\Users\\Robotmedia9\\Anaconda3\\lib\\site-packages\\IPython\\core\\interactiveshell.py\", line 2910, in run_code\n    exec(code_obj, self.user_global_ns, self.user_ns)\n  File \"<ipython-input-190-f18d678b020f>\", line 1, in <module>\n    X = tf.placeholder(tf.float32, [None, None,None,3]) # image data\n  File \"C:\\Users\\Robotmedia9\\Anaconda3\\lib\\site-packages\\tensorflow\\python\\ops\\array_ops.py\", line 1680, in placeholder\n    return gen_array_ops._placeholder(dtype=dtype, shape=shape, name=name)\n  File \"C:\\Users\\Robotmedia9\\Anaconda3\\lib\\site-packages\\tensorflow\\python\\ops\\gen_array_ops.py\", line 4105, in _placeholder\n    \"Placeholder\", dtype=dtype, shape=shape, name=name)\n  File \"C:\\Users\\Robotmedia9\\Anaconda3\\lib\\site-packages\\tensorflow\\python\\framework\\op_def_library.py\", line 787, in _apply_op_helper\n    op_def=op_def)\n  File \"C:\\Users\\Robotmedia9\\Anaconda3\\lib\\site-packages\\tensorflow\\python\\framework\\ops.py\", line 3160, in create_op\n    op_def=op_def)\n  File \"C:\\Users\\Robotmedia9\\Anaconda3\\lib\\site-packages\\tensorflow\\python\\framework\\ops.py\", line 1625, in __init__\n    self._traceback = self._graph._extract_stack()  # pylint: disable=protected-access\n\nInvalidArgumentError (see above for traceback): You must feed a value for placeholder tensor 'Placeholder_9' with dtype float and shape [?,?,?,3]\n\t [[Node: Placeholder_9 = Placeholder[dtype=DT_FLOAT, shape=[?,?,?,3], _device=\"/job:localhost/replica:0/task:0/device:GPU:0\"]()]]\n"
     ]
    }
   ],
   "source": [
    "sess=tf.Session()\n",
    "feed_dict={X:subim_input}\n",
    "print(sess.run(Spp6_flatten))\n"
   ]
  },
  {
   "cell_type": "code",
   "execution_count": null,
   "metadata": {},
   "outputs": [],
   "source": []
  }
 ],
 "metadata": {
  "kernelspec": {
   "display_name": "Python 3",
   "language": "python",
   "name": "python3"
  },
  "language_info": {
   "codemirror_mode": {
    "name": "ipython",
    "version": 3
   },
   "file_extension": ".py",
   "mimetype": "text/x-python",
   "name": "python",
   "nbconvert_exporter": "python",
   "pygments_lexer": "ipython3",
   "version": "3.6.4"
  }
 },
 "nbformat": 4,
 "nbformat_minor": 2
}
